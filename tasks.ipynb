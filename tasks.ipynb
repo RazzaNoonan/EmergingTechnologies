{
 "cells": [
  {
   "cell_type": "markdown",
   "metadata": {},
   "source": [
    "# <span style=\"color:orange\">Welcome to My Tasks Notebook </span>\n",
    "### <span style=\"color:orange\">By Ronan Noonan student number G00384824 </span>\n",
    "### <span style=\"color:orange\">Atlantic Technological University </span>"
   ]
  },
  {
   "cell_type": "markdown",
   "metadata": {},
   "source": [
    "***\n",
    "## Introduction \n",
    "***"
   ]
  },
  {
   "cell_type": "markdown",
   "metadata": {},
   "source": [
    "Within this notebook, you will find my workings for all of the tasks that I have been assigned throughout the semester."
   ]
  },
  {
   "attachments": {
    "image.png": {
     "image/png": "[encoded data removed]"
    }
   },
   "cell_type": "markdown",
   "metadata": {},
   "source": [
    "**<h3> Verifying the Collatz Conjecture </h3>**\n",
    "***\n",
    "The Collatz Conjecture posits that no matter what value of n (a positive integer) you start with, the sequence will always reach 1 <br><br> The sequence is obtained as follows: <br> \n",
    "1. If n is even then divide it by 2.<br>\n",
    "2. If n is odd multiply it by 3 and add 1. <br>\n",
    "<br>\n",
    "This process is repeated until n becomes 1. \n",
    "\n",
    "![image.png](attachment:image.png)\n",
    "\n",
    "The Collatz Conjecture has been a well-known problem among people interested in math since the early 1900s, when it was first brought up by a German mathematician named Lothar Collatz."
   ]
  },
  {
   "cell_type": "markdown",
   "metadata": {},
   "source": [
    "<a href=\"https://www.geeksforgeeks.org/importance-of-the-collatz-conjecture/\" style=\"color: red;\">**(1) The Collatz Conjecture** _geeksforgeeks_</a>"
   ]
  },
  {
   "cell_type": "markdown",
   "metadata": {},
   "source": [
    "**Defined two functions to verify that the conjecture is true for the first 10,000 positive integers.** <br>\n",
    "The 'collatz' function a positive integer iterates through the sequence as per the rules defined by the Collatz Conjecture, until n equals 1. Returns true.\n",
    "The 'verify_conjecture' function is called with an argument of 10000, meaning it checks the conjecture for all positive integers up to 10000. The result is then printed to the console."
   ]
  },
  {
   "cell_type": "code",
   "execution_count": 9,
   "metadata": {},
   "outputs": [
    {
     "name": "stdout",
     "output_type": "stream",
     "text": [
      "The Collatz conjecture holds for the first 10,000 positive integers.\n"
     ]
    }
   ],
   "source": [
    "def collatz(n):\n",
    "    # Continue looping until n becomes 1\n",
    "    while n != 1:\n",
    "        if n % 2 == 0:  # if the number is even\n",
    "            n = n // 2  # Then divide by 2\n",
    "        else:\n",
    "            n = 3 * n + 1  # if the number is odd * by 3 and add 1\n",
    "    return True\n",
    "\n",
    "def verify_conjecture(limit):\n",
    "    # loop through all integers from 1 to limit (set to 10000)\n",
    "    for i in range(1, limit + 1):\n",
    "        if not collatz(i):\n",
    "            return False # Won't ever return false\n",
    "    return True # Return True if the conjecture holds for all integers up to limit.\n",
    "\n",
    "# user_input = int(input(\"Enter a number: \"))\n",
    "\n",
    "# Verify the Collatz Conjecture for all positive integers up to 10000\n",
    "result = verify_conjecture(10000)\n",
    "\n",
    "if result:\n",
    "    print(\"The Collatz conjecture holds for the first 10,000 positive integers.\")\n",
    "else:\n",
    "    print(\"The Collatz conjecture does not hold for the first 10,000 positive integers.\")"
   ]
  },
  {
   "cell_type": "markdown",
   "metadata": {},
   "source": [
    "**<h3>Newton's method</h3>**\n",
    "***\n",
    "Newton's method, also called the Newton-Raphson method, is a way to find the solutions of a math problem by making better and better guesses. It starts with an initial guess and makes it more accurate by using information from the math problem itself. This guessing and improving process continues until you have a very close answer, and each step makes your answer twice as precise."
   ]
  },
  {
   "cell_type": "markdown",
   "metadata": {},
   "source": [
    "<a href=\"https://en.wikipedia.org/wiki/Newton%27s_method\" style=\"color: red;\">**(2) Newton's method** _wikipedia_</a>"
   ]
  },
  {
   "attachments": {
    "image.png": {
     "image/png": "[encoded data removed]"
    }
   },
   "cell_type": "markdown",
   "metadata": {},
   "source": [
    "![image.png](attachment:image.png)"
   ]
  },
  {
   "cell_type": "markdown",
   "metadata": {},
   "source": [
    "**Define a Python function sqrt(x) that approximates the square root of a non-negative number x using the Newton method**a \n",
    "The code first makes sure the input number is not negative and quickly handles cases where it's 0 or 1 by giving back the input itself. Then, it begins with a rough guess for the square root and keeps making it better using a special method called Newton-Raphson. This process continues until it gets really close to the true square root, and when that happens, it gives you the approximate square root. The code also demonstrates this by finding and showing the square root of 25."
   ]
  },
  {
   "cell_type": "code",
   "execution_count": 10,
   "metadata": {},
   "outputs": [
    {
     "name": "stdout",
     "output_type": "stream",
     "text": [
      "The approximate square root of 25 is 5.000000000016778\n",
      "The approximate square root of 20 is 4.472137791286727\n",
      "The approximate square root of 15 is 3.8729834348980945\n"
     ]
    }
   ],
   "source": [
    "def sqrt(x):\n",
    "    if x < 0:\n",
    "        raise ValueError(\"Input value must be non-negative\")\n",
    "    elif x == 0 or x == 1:\n",
    "        return x  # return early if x is 0 or 1\n",
    "\n",
    "    z = x / 2.0  # Initial guess\n",
    "    threshold = 0.01  # Convergence criterion\n",
    "\n",
    "    while True:\n",
    "        z_next = z - ((z * z - x) / (2 * z))\n",
    "        if abs(z_next - z) < threshold:\n",
    "            return z_next\n",
    "        z = z_next\n",
    "\n",
    "# Example Usage\n",
    "x = 25\n",
    "approx_sqrt = sqrt(x)\n",
    "print(f'The approximate square root of {x} is {approx_sqrt}')\n",
    "\n",
    "x = 20\n",
    "approx_sqrt = sqrt(x)\n",
    "print(f'The approximate square root of {x} is {approx_sqrt}')\n",
    "\n",
    "x = 15\n",
    "approx_sqrt = sqrt(x)\n",
    "print(f'The approximate square root of {x} is {approx_sqrt}')\n"
   ]
  },
  {
   "cell_type": "markdown",
   "metadata": {},
   "source": [
    "**<h3>Exploring Functions with Binary Inputs and Outputs</h3>**\n",
    "***\n",
    "In this exploration, we'll delve into binary functions. Our focus is on functions that take a 4-bit binary input and return a 1-bit binary output. There's a vast number of these functions — precisely 65,536! Here's our approach to investigating them:"
   ]
  },
  {
   "cell_type": "markdown",
   "metadata": {},
   "source": [
    "**Generating a Random Function:**\n",
    "Rather than manually defining a unique algorithm for all 65,536 possible functions, we'll simulate a function's behavior with a simpler method. We'll use a Python list of 16 elements, each corresponding to one of the 16 possible 4-bit inputs, filled with random 0s or 1s to represent possible outputs."
   ]
  },
  {
   "cell_type": "code",
   "execution_count": 11,
   "metadata": {},
   "outputs": [],
   "source": [
    "import random\n",
    "\n",
    "def generate_random_function():\n",
    "    \"\"\"Generate a random function represented as a list of 16 random bits.\"\"\"\n",
    "    return [random.randint(0, 1) for _ in range(16)]\n"
   ]
  },
  {
   "cell_type": "markdown",
   "metadata": {},
   "source": [
    "**Identifying the Function:**\n",
    "After generating our function, we need to identify its behavior. We do this by \"calling\" this function with every possible 4-bit input to observe its output. In our case, since we're simulating the function with a list, this means checking the list's value for each input. By examining all 16 possible inputs, we can understand the function's behavior entirely."
   ]
  },
  {
   "cell_type": "code",
   "execution_count": 12,
   "metadata": {},
   "outputs": [],
   "source": [
    "def identify_function(func):\n",
    "    \"\"\"Identify the behavior of the generated function by iterating over all possible 4-bit inputs.\"\"\"\n",
    "    print(\"Function Behavior (Input -> Output):\")\n",
    "    for i in range(16):\n",
    "        # Convert the integer 'i' to a 4-bit binary string and print alongside the output.\n",
    "        print(f\"Input: {format(i, '04b')} -> Output: {func[i]}\")\n"
   ]
  },
  {
   "cell_type": "markdown",
   "metadata": {},
   "source": [
    "**Execution:**\n",
    "Now, we put it all together. We generate a function, then identify it. The fascinating part here is that every execution could potentially explore a unique function among the 65,536 possibilities!"
   ]
  },
  {
   "cell_type": "code",
   "execution_count": 13,
   "metadata": {},
   "outputs": [
    {
     "name": "stdout",
     "output_type": "stream",
     "text": [
      "Function Behavior (Input -> Output):\n",
      "Input: 0000 -> Output: 0\n",
      "Input: 0001 -> Output: 0\n",
      "Input: 0010 -> Output: 0\n",
      "Input: 0011 -> Output: 1\n",
      "Input: 0100 -> Output: 0\n",
      "Input: 0101 -> Output: 0\n",
      "Input: 0110 -> Output: 1\n",
      "Input: 0111 -> Output: 1\n",
      "Input: 1000 -> Output: 0\n",
      "Input: 1001 -> Output: 1\n",
      "Input: 1010 -> Output: 0\n",
      "Input: 1011 -> Output: 1\n",
      "Input: 1100 -> Output: 0\n",
      "Input: 1101 -> Output: 0\n",
      "Input: 1110 -> Output: 0\n",
      "Input: 1111 -> Output: 1\n"
     ]
    }
   ],
   "source": [
    "random_function = generate_random_function()\n",
    "identify_function(random_function)"
   ]
  },
  {
   "cell_type": "markdown",
   "metadata": {},
   "source": [
    "Through this exercise, we've seen that even with a straightforward concept as 4-bit inputs and 1-bit outputs, there's an extensive landscape of functions to explore. And with Python, we can randomly traverse this landscape, uncovering the behavior of individual functions one at a time."
   ]
  },
  {
   "cell_type": "markdown",
   "metadata": {},
   "source": [
    "**<h3>Function that performs matrix multiplication on two rectangular</h3>**\n",
    "***\n",
    "First, let's understand the basic rule of matrix multiplication:\n",
    "\n",
    "  - To multiply two matrices, the number of columns in the first matrix must be equal to the number of rows in the second matrix."
   ]
  },
  {
   "cell_type": "markdown",
   "metadata": {},
   "source": [
    "<a href=\"https://www.educative.io/answers/how-to-multiply-matrices-in-numpy\" style=\"color: red;\">**(3) Multiplying Matrices** _educative_</a>"
   ]
  },
  {
   "cell_type": "markdown",
   "metadata": {},
   "source": [
    "The function 'matrix_multiply' multiplys two matrices, it checks if the number of columns in the first matrix is equal to number of rows in second matrix which ensures if the matrices can be multiplied. It then create a new matrix called 'result'. This matrix has the same number of rows as the first matrix and the same number of columns as the second matrix. Initailly all the elements in the matrix are set to zero as the values will be filled when it multiplys. It performs the multiplication by iterating through each element. For each element in the result matrix, it calculates the product of a row from the first matrix and a column from the second matrix. This is done by multiplying corresponding elements. The results of these individual multiplications are added together to give a single number. \n",
    "\n",
    "This process for matrix multiplication mirrors the method you would use when doing it by hand with pen and paper."
   ]
  },
  {
   "cell_type": "code",
   "execution_count": 14,
   "metadata": {},
   "outputs": [
    {
     "name": "stdout",
     "output_type": "stream",
     "text": [
      "Result of matrix_a * matrix_b:\n",
      " [[4.0, 4.0], [10.0, 8.0]]\n"
     ]
    }
   ],
   "source": [
    "def matrix_multiply(matrix_a, matrix_b):\n",
    "    # Validating the matrices - number of columns in the first matrix equal to number of rows in second matrix.\n",
    "    if len(matrix_a[0]) != len(matrix_b):\n",
    "        raise ValueError(\"The number of columns in the first matrix must equal the number of rows in the second matrix.\")\n",
    "\n",
    "    # Initialize a result matrix with zeros\n",
    "    result = [[0 for _ in range(len(matrix_b[0]))] for _ in range(len(matrix_a))]\n",
    "\n",
    "    # Performing matrix multiplication\n",
    "    for i in range(len(matrix_a)):\n",
    "        for j in range(len(matrix_b[0])):\n",
    "            for k in range(len(matrix_b)):\n",
    "                result[i][j] += matrix_a[i][k] * matrix_b[k][j]\n",
    "\n",
    "    return result\n",
    "\n",
    "# Matrices defined\n",
    "matrix_a = [[1.0, 2.0], [3.0, 4.0]]\n",
    "matrix_b = [[2.0, 0.0], [1.0, 2.0]]\n",
    "\n",
    "try:\n",
    "    result = matrix_multiply(matrix_a, matrix_b)\n",
    "    print(\"Result of matrix_a * matrix_b:\\n\", result)\n",
    "except ValueError as e:\n",
    "    print(e)"
   ]
  },
  {
   "cell_type": "markdown",
   "metadata": {},
   "source": [
    "Multiplication of two new matrices, the dimensions of these matrices are compatible for multiplication so their is a result."
   ]
  },
  {
   "cell_type": "code",
   "execution_count": 15,
   "metadata": {},
   "outputs": [
    {
     "name": "stdout",
     "output_type": "stream",
     "text": [
      "Result of matrix_c * matrix_d:\n",
      " [[58.0, 64.0], [139.0, 154.0]]\n"
     ]
    }
   ],
   "source": [
    "matrix_c = [[1.0, 2.0, 3.0],\n",
    "            [4.0, 5.0, 6.0]]\n",
    "matrix_d = [[7.0, 8.0],\n",
    "            [9.0, 10.0],\n",
    "            [11.0, 12.0]]\n",
    "\n",
    "try:\n",
    "    result = matrix_multiply(matrix_c, matrix_d)\n",
    "    print(\"Result of matrix_c * matrix_d:\\n\", result)\n",
    "except ValueError as e:\n",
    "    print(e)"
   ]
  },
  {
   "cell_type": "markdown",
   "metadata": {},
   "source": [
    "Multiplication of two new matrices, the dimensions of these matrices are not compatible for multiplication so it is not possible to multiply them."
   ]
  },
  {
   "cell_type": "code",
   "execution_count": 16,
   "metadata": {},
   "outputs": [
    {
     "name": "stdout",
     "output_type": "stream",
     "text": [
      "The number of columns in the first matrix must equal the number of rows in the second matrix.\n"
     ]
    }
   ],
   "source": [
    "matrix_e = [[1.0, 2.0],\n",
    "            [3.0, 4.0]]\n",
    "matrix_f = [[5.0, 6.0, 7.0],\n",
    "            [8.0, 9.0, 10.0],\n",
    "            [11.0, 12.0, 13.0]]\n",
    "\n",
    "try:\n",
    "    result = matrix_multiply(matrix_e, matrix_f)\n",
    "    print(\"Result of matrix_e * matrix_f:\\n\", result)\n",
    "except ValueError as e:\n",
    "    print(e)"
   ]
  },
  {
   "cell_type": "markdown",
   "metadata": {},
   "source": [
    "# References\n",
    "***\n",
    "1. https://www.geeksforgeeks.org/importance-of-the-collatz-conjecture/ <span style=\"color: red;\">The Collatz Conjecture</span>\n",
    "2. https://en.wikipedia.org/wiki/Newton%27s_method <span style=\"color: red;\">Newton's method</span>\n",
    "3. https://www.educative.io/answers/how-to-multiply-matrices-in-numpy <span style=\"color: red;\">Multiplying Matrices</span>\n",
    "\n",
    "\n",
    " \n",
    "\n",
    "\n",
    "\n",
    "\n",
    "\n"
   ]
  }
 ],
 "metadata": {
  "kernelspec": {
   "display_name": "Python 3",
   "language": "python",
   "name": "python3"
  },
  "language_info": {
   "codemirror_mode": {
    "name": "ipython",
    "version": 3
   },
   "file_extension": ".py",
   "mimetype": "text/x-python",
   "name": "python",
   "nbconvert_exporter": "python",
   "pygments_lexer": "ipython3",
   "version": "3.11.0"
  },
  "orig_nbformat": 4
 },
 "nbformat": 4,
 "nbformat_minor": 2
}
