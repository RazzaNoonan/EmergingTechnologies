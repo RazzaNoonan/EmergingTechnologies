{
 "cells": [
  {
   "cell_type": "markdown",
   "metadata": {},
   "source": [
    "# Welcome to My Tasks Notebook \n",
    "### By Ronan Noonan student number G00384824\n",
    "### Atlantic Technological University "
   ]
  },
  {
   "attachments": {
    "image.png": {
     "image/png": "[encoded data removed]"
    }
   },
   "cell_type": "markdown",
   "metadata": {},
   "source": [
    "**<h3> Verifying the Collatz Conjecture </h3>**\n",
    "The Collatz Conjecture posits that no matter what value of n (a positive integer) you start with, the sequence will always reach 1 <br><br> The sequence is obtained as follows: <br> \n",
    "1. If n is even then divide it by 2.<br>\n",
    "2. If n is odd multiply it by 3 and add 1. <br>\n",
    "<br>\n",
    "This process is repeated until n becomes 1. \n",
    "\n",
    "![image.png](attachment:image.png)\n",
    "\n",
    "The Collatz Conjecture has been a well-known problem among people interested in math since the early 1900s, when it was first brought up by a German mathematician named Lothar Collatz.\n",
    "<a href=\"https://www.geeksforgeeks.org/importance-of-the-collatz-conjecture/\">(1)</a>"
   ]
  },
  {
   "cell_type": "markdown",
   "metadata": {},
   "source": [
    "**Defined two functions to verify that the conjecture is true for the first 10,000 positive integers.** <br>\n",
    "The 'collatz' function a positive integer iterates through the sequence as per the rules defined by the Collatz Conjecture, until n equals 1. Returns true.\n",
    "The 'verify_conjecture' function is called with an argument of 10000, meaning we are checking the conjecture for all positive integers up to 10000. The result is then printed to the console."
   ]
  },
  {
   "cell_type": "code",
   "execution_count": 1,
   "metadata": {},
   "outputs": [
    {
     "ename": "TypeError",
     "evalue": "'bool' object is not callable",
     "output_type": "error",
     "traceback": [
      "\u001b[1;31m---------------------------------------------------------------------------\u001b[0m",
      "\u001b[1;31mTypeError\u001b[0m                                 Traceback (most recent call last)",
      "\u001b[1;32mc:\\Users\\ronan\\OneDrive - Atlantic TU\\Year Four\\Emerging Technologies\\Emerging Tech\\tasks.ipynb Cell 4\u001b[0m line \u001b[0;36m2\n\u001b[0;32m     <a href='vscode-notebook-cell:/c%3A/Users/ronan/OneDrive%20-%20Atlantic%20TU/Year%20Four/Emerging%20Technologies/Emerging%20Tech/tasks.ipynb#W3sZmlsZQ%3D%3D?line=16'>17</a>\u001b[0m \u001b[39m# Prompt the user for a number\u001b[39;00m\n\u001b[0;32m     <a href='vscode-notebook-cell:/c%3A/Users/ronan/OneDrive%20-%20Atlantic%20TU/Year%20Four/Emerging%20Technologies/Emerging%20Tech/tasks.ipynb#W3sZmlsZQ%3D%3D?line=17'>18</a>\u001b[0m \u001b[39m#user_input = int(input(\"Enter a number: \"))\u001b[39;00m\n\u001b[0;32m     <a href='vscode-notebook-cell:/c%3A/Users/ronan/OneDrive%20-%20Atlantic%20TU/Year%20Four/Emerging%20Technologies/Emerging%20Tech/tasks.ipynb#W3sZmlsZQ%3D%3D?line=18'>19</a>\u001b[0m \n\u001b[0;32m     <a href='vscode-notebook-cell:/c%3A/Users/ronan/OneDrive%20-%20Atlantic%20TU/Year%20Four/Emerging%20Technologies/Emerging%20Tech/tasks.ipynb#W3sZmlsZQ%3D%3D?line=19'>20</a>\u001b[0m \u001b[39m# Verify the Collatz Conjecture for all positive integers up to 10000\u001b[39;00m\n\u001b[0;32m     <a href='vscode-notebook-cell:/c%3A/Users/ronan/OneDrive%20-%20Atlantic%20TU/Year%20Four/Emerging%20Technologies/Emerging%20Tech/tasks.ipynb#W3sZmlsZQ%3D%3D?line=20'>21</a>\u001b[0m result \u001b[39m=\u001b[39m verify_conjecture(\u001b[39m10000\u001b[39m)\n\u001b[1;32m---> <a href='vscode-notebook-cell:/c%3A/Users/ronan/OneDrive%20-%20Atlantic%20TU/Year%20Four/Emerging%20Technologies/Emerging%20Tech/tasks.ipynb#W3sZmlsZQ%3D%3D?line=21'>22</a>\u001b[0m \u001b[39mprint\u001b[39m(result (\u001b[39m\"\u001b[39;49m\u001b[39mThe Collatz conjecture holds for the first 10,000 positive integers.\u001b[39;49m\u001b[39m\"\u001b[39;49m))\n",
      "\u001b[1;31mTypeError\u001b[0m: 'bool' object is not callable"
     ]
    }
   ],
   "source": [
    "def collatz(n):\n",
    "    #Continue looping until n becomes 1\n",
    "    while n != 1:\n",
    "        if n % 2 == 0:  # if the number is even\n",
    "            n = n // 2  #Then divide by 2\n",
    "        else:\n",
    "            n = 3 * n + 1  # if the number is odd * by 3 and add 1\n",
    "    return True\n",
    "\n",
    "def verify_conjecture(limit):\n",
    "    #loop through all integers from 1 to limit (set to 10000)\n",
    "    for i in range(1, limit + 1):\n",
    "        if not collatz(i):\n",
    "            return False # Won't ever return false\n",
    "    return True # Return True if the conjecture holds for all integers up to limit.\n",
    "\n",
    "# Prompt the user for a number\n",
    "#user_input = int(input(\"Enter a number: \"))\n",
    "\n",
    "# Verify the Collatz Conjecture for all positive integers up to 10000\n",
    "result = verify_conjecture(10000)\n",
    "print(result (\"The Collatz conjecture holds for the first 10,000 positive integers.\"))\n"
   ]
  },
  {
   "cell_type": "markdown",
   "metadata": {},
   "source": [
    "**<h3>Newton's method</h3>**\n",
    "Newton's method, also called the Newton-Raphson method, is a way to find the solutions of a math problem by making better and better guesses. It starts with an initial guess and makes it more accurate by using information from the math problem itself. This guessing and improving process continues until you have a very close answer, and each step makes your answer twice as precise. <a href=\"https://en.wikipedia.org/wiki/Newton%27s_method\">(2)</a>"
   ]
  },
  {
   "attachments": {
    "image.png": {
     "image/png": "[encoded data removed]"
    }
   },
   "cell_type": "markdown",
   "metadata": {},
   "source": [
    "![image.png](attachment:image.png)"
   ]
  },
  {
   "cell_type": "markdown",
   "metadata": {},
   "source": [
    "**Define a Python function sqrt(x) that approximates the square root of a non-negative number x using the Newton method**a \n",
    "The code first makes sure the input number is not negative and quickly handles cases where it's 0 or 1 by giving back the input itself. Then, it begins with a rough guess for the square root and keeps making it better using a special method called Newton-Raphson. This process continues until it gets really close to the true square root, and when that happens, it gives you the approximate square root. The code also demonstrates this by finding and showing the square root of 25."
   ]
  },
  {
   "cell_type": "code",
   "execution_count": null,
   "metadata": {},
   "outputs": [
    {
     "name": "stdout",
     "output_type": "stream",
     "text": [
      "The approximate square root of 25 is 5.000000000016778\n",
      "The approximate square root of 20 is 4.472137791286727\n",
      "The approximate square root of 15 is 3.8729834348980945\n"
     ]
    }
   ],
   "source": [
    "def sqrt(x):\n",
    "    if x < 0:\n",
    "        raise ValueError(\"Input value must be non-negative\")\n",
    "    elif x == 0 or x == 1:\n",
    "        return x  # return early if x is 0 or 1\n",
    "\n",
    "    z = x / 2.0  # Initial guess\n",
    "    threshold = 0.01  # Convergence criterion\n",
    "\n",
    "    while True:\n",
    "        z_next = z - ((z * z - x) / (2 * z))\n",
    "        if abs(z_next - z) < threshold:\n",
    "            return z_next\n",
    "        z = z_next\n",
    "\n",
    "# Example Usage\n",
    "x = 25\n",
    "approx_sqrt = sqrt(x)\n",
    "print(f'The approximate square root of {x} is {approx_sqrt}')\n",
    "\n",
    "x = 20\n",
    "approx_sqrt = sqrt(x)\n",
    "print(f'The approximate square root of {x} is {approx_sqrt}')\n",
    "\n",
    "x = 15\n",
    "approx_sqrt = sqrt(x)\n",
    "print(f'The approximate square root of {x} is {approx_sqrt}')\n"
   ]
  },
  {
   "cell_type": "markdown",
   "metadata": {},
   "source": [
    "**<h3>Exploring Functions with Binary Inputs and Outputs</h3>**\n",
    "In this exploration, we will look at binary functions. Specifically, we're interested in functions that accept a 4-bit binary input and produce a 1-bit binary output. There's a surprisingly large number of these functions: 65,536 to be exact! Here's how we investigate them:"
   ]
  },
  {
   "cell_type": "markdown",
   "metadata": {},
   "source": [
    "**Generating a Random Function:**\n",
    "First, we need a random function that takes a 4-bit input and gives a 1-bit output. But defining a unique algorithm for all 65,536 possible functions isn't feasible. So, we use a Python list of 16 elements (representing 16 possible 4-bit inputs) filled with random 0s or 1s (possible outputs). This list simulates a function's behavior."
   ]
  },
  {
   "cell_type": "code",
   "execution_count": null,
   "metadata": {},
   "outputs": [],
   "source": [
    "def generate_random_function():\n",
    "    # Create a list of 16 random bits\n",
    "    return [random.randint(0, 1) for _ in range(16)]"
   ]
  },
  {
   "cell_type": "markdown",
   "metadata": {},
   "source": [
    "Identifying the Function:\n",
    "Next, we \"call\" this function with every possible 4-bit input to see its output. Since we're simulating the function with a list, this just means reading the list's value for each input. By checking all 16 possible inputs, we fully identify the function's behavior."
   ]
  },
  {
   "cell_type": "code",
   "execution_count": null,
   "metadata": {},
   "outputs": [],
   "source": [
    "def identify_function(func):\n",
    "    # Iterate over all possible 4-bit inputs\n",
    "    for i in range(16):\n",
    "        # Print the 4-bit input and its corresponding output\n",
    "        print(f\"Input: {format(i, '04b')}, Output: {func[i]}\")"
   ]
  },
  {
   "cell_type": "markdown",
   "metadata": {},
   "source": [
    "Execution:\n",
    "Finally, we put it all together: generate a function and identify it. The real beauty here is that every execution potentially explores a unique function among the 65,536 possibilities!"
   ]
  },
  {
   "cell_type": "code",
   "execution_count": null,
   "metadata": {},
   "outputs": [],
   "source": [
    "random_function = generate_random_function()\n",
    "identify_function(random_function)"
   ]
  },
  {
   "cell_type": "markdown",
   "metadata": {},
   "source": [
    "Through this exercise, we've seen that even with a concept as simple as 4-bit inputs and 1-bit outputs, there's a vast landscape of functions to explore. And with Python, we can randomly explore this landscape, unveiling the behavior of individual functions one at a time."
   ]
  },
  {
   "cell_type": "markdown",
   "metadata": {},
   "source": [
    "### **References**<br> <hr>\n",
    "(1) https://www.geeksforgeeks.org/importance-of-the-collatz-conjecture/ The Collatz Conjecture<br>\n",
    "(2) https://en.wikipedia.org/wiki/Newton%27s_method Newton's method<br>\n",
    "\n",
    "\n",
    "\n",
    "\n",
    "\n"
   ]
  }
 ],
 "metadata": {
  "kernelspec": {
   "display_name": "Python 3",
   "language": "python",
   "name": "python3"
  },
  "language_info": {
   "codemirror_mode": {
    "name": "ipython",
    "version": 3
   },
   "file_extension": ".py",
   "mimetype": "text/x-python",
   "name": "python",
   "nbconvert_exporter": "python",
   "pygments_lexer": "ipython3",
   "version": "3.11.0"
  },
  "orig_nbformat": 4
 },
 "nbformat": 4,
 "nbformat_minor": 2
}
