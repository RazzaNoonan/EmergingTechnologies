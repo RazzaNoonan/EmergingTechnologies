{
 "cells": [
  {
   "cell_type": "markdown",
   "metadata": {},
   "source": [
    "\n",
    "<h1>Week 1</h1>"
   ]
  },
  {
   "cell_type": "markdown",
   "metadata": {},
   "source": [
    "<h3> Verifying the Collatz Conjecture </h3>\n",
    "The Collatz Conjecture posits that no matter what value of n (a positive integer) you start with, the sequence will always reach 1 <br><br> The sequence is obtained as follows: <br> \n",
    "1. If n is even then divide it by 2.<br>\n",
    "2. If n is odd multiply it by 3 and add 1. <br><br>\n",
    "This process is repeated until n becomes 1. <br><br>\n",
    "Defined two functions to carry out this verification: <br>\n",
    "The 'collatz' function a positive integer iterates through the sequence as per the rules defined by the Collatz Conjecture, until n equals 1. Returns true.\n",
    "The 'verify_conjecture' function is called with an argument of 10000, meaning we are checking the conjecture for all positive integers up to 10000. The result is then printed to the console.\n"
   ]
  },
  {
   "cell_type": "code",
   "execution_count": 1,
   "metadata": {},
   "outputs": [
    {
     "name": "stdout",
     "output_type": "stream",
     "text": [
      "True\n"
     ]
    }
   ],
   "source": [
    "def collatz(n):\n",
    "    while n != 1:\n",
    "        if n % 2 == 0:  # if the number is even\n",
    "            n = n // 2\n",
    "        else:\n",
    "            n = 3 * n + 1  # if the number is odd\n",
    "    return True\n",
    "\n",
    "def verify_conjecture(limit):\n",
    "    for i in range(1, limit + 1):\n",
    "        if not collatz(i):\n",
    "            return False\n",
    "    return True\n",
    "\n",
    "# Prompt the user for a number\n",
    "#user_input = int(input(\"Enter a number: \"))\n",
    "\n",
    "# Verify the Collatz Conjecture for all positive integers up to the user's number\n",
    "result = verify_conjecture(10000)\n",
    "print(result)\n"
   ]
  },
  {
   "cell_type": "markdown",
   "metadata": {},
   "source": [
    "<h3>Newton's method</h3>"
   ]
  }
 ],
 "metadata": {
  "kernelspec": {
   "display_name": "Python 3",
   "language": "python",
   "name": "python3"
  },
  "language_info": {
   "codemirror_mode": {
    "name": "ipython",
    "version": 3
   },
   "file_extension": ".py",
   "mimetype": "text/x-python",
   "name": "python",
   "nbconvert_exporter": "python",
   "pygments_lexer": "ipython3",
   "version": "3.11.0"
  },
  "orig_nbformat": 4
 },
 "nbformat": 4,
 "nbformat_minor": 2
}
