{
 "cells": [
  {
   "cell_type": "markdown",
   "metadata": {},
   "source": [
    "\n",
    "<h1>Week 1</h1>"
   ]
  },
  {
   "cell_type": "markdown",
   "metadata": {},
   "source": [
    "**<h3> Verifying the Collatz Conjecture </h3>**\n",
    "The Collatz Conjecture posits that no matter what value of n (a positive integer) you start with, the sequence will always reach 1 <br><br> The sequence is obtained as follows: <br> \n",
    "1. If n is even then divide it by 2.<br>\n",
    "2. If n is odd multiply it by 3 and add 1. <br>\n",
    "<br>\n",
    "This process is repeated until n becomes 1. \n",
    "\n",
    "![Alt text](image-3.png)\n",
    "\n",
    "The Collatz Conjecture has been a well-known problem among people interested in math since the early 1900s, when it was first brought up by a German mathematician named Lothar Collatz.\n",
    "<a href=\"https://www.geeksforgeeks.org/importance-of-the-collatz-conjecture/\">(1)</a>"
   ]
  },
  {
   "cell_type": "markdown",
   "metadata": {},
   "source": [
    "**Defined two functions to verify that the conjecture is true for the first 10,000 positive integers.** <br>\n",
    "The 'collatz' function a positive integer iterates through the sequence as per the rules defined by the Collatz Conjecture, until n equals 1. Returns true.\n",
    "The 'verify_conjecture' function is called with an argument of 10000, meaning we are checking the conjecture for all positive integers up to 10000. The result is then printed to the console."
   ]
  },
  {
   "cell_type": "code",
   "execution_count": 14,
   "metadata": {},
   "outputs": [
    {
     "name": "stdout",
     "output_type": "stream",
     "text": [
      "True\n"
     ]
    }
   ],
   "source": [
    "def collatz(n):\n",
    "    #Continue looping until n becomes 1\n",
    "    while n != 1:\n",
    "        if n % 2 == 0:  # if the number is even\n",
    "            n = n // 2  #Then divide by 2\n",
    "        else:\n",
    "            n = 3 * n + 1  # if the number is odd * by 3 and add 1\n",
    "    return True\n",
    "\n",
    "def verify_conjecture(limit):\n",
    "    #loop through all integers from 1 to limit (set to 10000)\n",
    "    for i in range(1, limit + 1):\n",
    "        if not collatz(i):\n",
    "            return False # Won't ever return false\n",
    "    return True # Return True if the conjecture holds for all integers up to limit.\n",
    "\n",
    "# Prompt the user for a number\n",
    "#user_input = int(input(\"Enter a number: \"))\n",
    "\n",
    "# Verify the Collatz Conjecture for all positive integers up to 10000\n",
    "result = verify_conjecture(10000)\n",
    "print(result)\n"
   ]
  },
  {
   "cell_type": "markdown",
   "metadata": {},
   "source": [
    "**<h3>Newton's method</h3>**\n",
    "Newton's method, also called the Newton-Raphson method, is a way to find the solutions of a math problem by making better and better guesses. It starts with an initial guess and makes it more accurate by using information from the math problem itself. This guessing and improving process continues until you have a very close answer, and each step makes your answer twice as precise. <a href=\"https://en.wikipedia.org/wiki/Newton%27s_method\">(2)</a>"
   ]
  },
  {
   "cell_type": "markdown",
   "metadata": {},
   "source": [
    "**Define a Python function sqrt(x) that approximates the square root of a non-negative number x using the Newton method**\n",
    "The code first makes sure the input number is not negative and quickly handles cases where it's 0 or 1 by giving back the input itself. Then, it begins with a rough guess for the square root and keeps making it better using a special method called Newton-Raphson. This process continues until it gets really close to the true square root, and when that happens, it gives you the approximate square root. The code also demonstrates this by finding and showing the square root of 25."
   ]
  },
  {
   "cell_type": "code",
   "execution_count": 15,
   "metadata": {},
   "outputs": [
    {
     "name": "stdout",
     "output_type": "stream",
     "text": [
      "The approximate square root of 25 is 5.000000000016778\n"
     ]
    }
   ],
   "source": [
    "def sqrt(x):\n",
    "    if x < 0:\n",
    "        raise ValueError(\"Input value must be non-negative\")\n",
    "    elif x == 0 or x == 1:\n",
    "        return x  # return early if x is 0 or 1\n",
    "\n",
    "    z = x / 2.0  # Initial guess\n",
    "    threshold = 0.01  # Convergence criterion\n",
    "\n",
    "    while True:\n",
    "        z_next = z - ((z * z - x) / (2 * z))\n",
    "        if abs(z_next - z) < threshold:\n",
    "            return z_next\n",
    "        z = z_next\n",
    "\n",
    "# Example Usage\n",
    "x = 25\n",
    "approx_sqrt = sqrt(x)\n",
    "print(f'The approximate square root of {x} is {approx_sqrt}')\n"
   ]
  },
  {
   "cell_type": "markdown",
   "metadata": {},
   "source": [
    "### **References**<br> <hr>\n",
    "(1) https://www.geeksforgeeks.org/importance-of-the-collatz-conjecture/ The Collatz Conjecture<br>\n",
    "(2) https://en.wikipedia.org/wiki/Newton%27s_method Newton's method<br>\n",
    "\n",
    "\n",
    "\n",
    "\n",
    "\n"
   ]
  }
 ],
 "metadata": {
  "kernelspec": {
   "display_name": "Python 3",
   "language": "python",
   "name": "python3"
  },
  "language_info": {
   "codemirror_mode": {
    "name": "ipython",
    "version": 3
   },
   "file_extension": ".py",
   "mimetype": "text/x-python",
   "name": "python",
   "nbconvert_exporter": "python",
   "pygments_lexer": "ipython3",
   "version": "3.11.0"
  },
  "orig_nbformat": 4
 },
 "nbformat": 4,
 "nbformat_minor": 2
}
