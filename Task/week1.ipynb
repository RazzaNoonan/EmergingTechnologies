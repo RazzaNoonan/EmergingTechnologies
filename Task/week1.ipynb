{
 "cells": [
  {
   "cell_type": "markdown",
   "metadata": {},
   "source": [
    "\n",
    "<h1>Week 1</h1>"
   ]
  },
  {
   "cell_type": "markdown",
   "metadata": {},
   "source": [
    "<h3> Verifying the Collatz Conjecture </h3>\n",
    "The Collatz Conjecture posits that no matter what value of n (a positive integer) you start with, the sequence will always reach 1 <br><br> The sequence is obtained as follows: <br> \n",
    "1. If n is even then divide it by 2.<br>\n",
    "2. If n is odd multiply it by 3 and add 1. <br>\n",
    "<br>\n",
    "This process is repeated until n becomes 1. \n",
    "\n",
    "![Alt text](image-3.png)\n",
    "\n",
    "The Collatz Conjecture has been a well-known problem among people interested in math since the early 1900s, when it was first brought up by a German mathematician named Lothar Collatz.\n",
    "<a href=\"https://www.geeksforgeeks.org/importance-of-the-collatz-conjecture/\">(1)</a>"
   ]
  },
  {
   "cell_type": "markdown",
   "metadata": {},
   "source": [
    "**Defined two functions to verify that the conjecture is true for the first 10,000 positive integers.** <br>\n",
    "The 'collatz' function a positive integer iterates through the sequence as per the rules defined by the Collatz Conjecture, until n equals 1. Returns true.\n",
    "The 'verify_conjecture' function is called with an argument of 10000, meaning we are checking the conjecture for all positive integers up to 10000. The result is then printed to the console."
   ]
  },
  {
   "cell_type": "code",
   "execution_count": 15,
   "metadata": {},
   "outputs": [
    {
     "name": "stdout",
     "output_type": "stream",
     "text": [
      "True\n"
     ]
    }
   ],
   "source": [
    "def collatz(n):\n",
    "    #Continue looping until n becomes 1\n",
    "    while n != 1:\n",
    "        if n % 2 == 0:  # if the number is even\n",
    "            n = n // 2  #Then divide by 2\n",
    "        else:\n",
    "            n = 3 * n + 1  # if the number is odd * by 3 and add 1\n",
    "    return True\n",
    "\n",
    "def verify_conjecture(limit):\n",
    "    #loop through all integers from 1 to limit (set to 10000)\n",
    "    for i in range(1, limit + 1):\n",
    "        if not collatz(i):\n",
    "            return False # Won't ever return false\n",
    "    return True # Return True if the conjecture holds for all integers up to limit.\n",
    "\n",
    "# Prompt the user for a number\n",
    "#user_input = int(input(\"Enter a number: \"))\n",
    "\n",
    "# Verify the Collatz Conjecture for all positive integers up to 10000\n",
    "result = verify_conjecture(10000)\n",
    "print(result)\n"
   ]
  },
  {
   "cell_type": "markdown",
   "metadata": {},
   "source": [
    "<h3>Newton's method</h3>"
   ]
  },
  {
   "cell_type": "code",
   "execution_count": 16,
   "metadata": {},
   "outputs": [
    {
     "name": "stdout",
     "output_type": "stream",
     "text": [
      "The approximate square root of 25 is 5.0\n"
     ]
    }
   ],
   "source": [
    "def sqrt(x):\n",
    "    if x < 0:\n",
    "        raise ValueError(\"Input value must be non-negative\")\n",
    "    elif x == 0 or x == 1:\n",
    "        return x  # return early if x is 0 or 1\n",
    "\n",
    "    z = x / 2.0  # Initial guess\n",
    "    threshold = 0.01  # Convergence criterion\n",
    "\n",
    "    while True:\n",
    "        z_next = z - ((z * z - x) / (2 * z))\n",
    "        if abs(z_next - z) < threshold:\n",
    "            return z_next\n",
    "        z = z_next\n",
    "\n",
    "# Example Usage\n",
    "x = 25\n",
    "approx_sqrt = sqrt(x)\n",
    "print(f'The approximate square root of {x} is {approx_sqrt}')\n"
   ]
  },
  {
   "cell_type": "markdown",
   "metadata": {},
   "source": [
    "### **References**<br> <hr>\n",
    "(1) https://www.geeksforgeeks.org/importance-of-the-collatz-conjecture/ The Collatz Conjecture<br>\n",
    "\n",
    "\n"
   ]
  }
 ],
 "metadata": {
  "kernelspec": {
   "display_name": "Python 3",
   "language": "python",
   "name": "python3"
  },
  "language_info": {
   "codemirror_mode": {
    "name": "ipython",
    "version": 3
   },
   "file_extension": ".py",
   "mimetype": "text/x-python",
   "name": "python",
   "nbconvert_exporter": "python",
   "pygments_lexer": "ipython3",
   "version": "3.11.0"
  },
  "orig_nbformat": 4
 },
 "nbformat": 4,
 "nbformat_minor": 2
}
