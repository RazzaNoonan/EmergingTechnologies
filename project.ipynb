{
 "cells": [
  {
   "cell_type": "markdown",
   "metadata": {},
   "source": [
    "# Welcome to My Project Notebook \n",
    "### By Ronan Noonan student number G00384824\n",
    "### Atlantic Technological University "
   ]
  },
  {
   "cell_type": "markdown",
   "metadata": {},
   "source": [
    "<hr>"
   ]
  },
  {
   "cell_type": "markdown",
   "metadata": {},
   "source": [
    "# Introduction "
   ]
  },
  {
   "cell_type": "markdown",
   "metadata": {},
   "source": [
    "Quantum computing, an emerging field of technology, promises to revolutionize the way we compute. While classical computers use bits to process information in binary form (0s and 1s), quantum computers use quantum bits, or qubits. These qubits have the extraordinary capability of being in a superposition of states, enabling them to represent both 0 and 1 simultaneously. One of the algorithms that demonstrated the potential advantages of quantum over classical computing is Deutsch's Algorithm. This algorithm, although simple, sets the foundation for more complex quantum algorithms and highlights the vast potential of quantum computing. \n",
    "<a href=\"https://www.microwavejournal.com/articles/34557-understanding-quantum-computing?gclid=CjwKCAjwkY2qBhBDEiwAoQXK5Z1eUpxYgFqZNcRWN5mByzt5-V-Pbip8bXbN6lrprD55tIepS5UFuRoCI6QQAvD_BwE\">Quantum Computing</a>"
   ]
  },
  {
   "cell_type": "markdown",
   "metadata": {},
   "source": [
    "#  Understanding Quantum Computing"
   ]
  },
  {
   "cell_type": "markdown",
   "metadata": {},
   "source": [
    "### Explain Quantum Computing\n",
    "Quantum computing taps into the subtle behaviors of quantum mechanics, using qubits that can be both 0 and 1 simultaneously, thanks to superposition. Coupled with entanglement, where qubits influence each other regardless of distance, quantum computers can process complex calculations rapidly, unlocking potentials in areas like cryptanalysis and materials research. \n",
    "<a href=\"https://www.microwavejournal.com/articles/34557-understanding-quantum-computing?gclid=CjwKCAjwkY2qBhBDEiwAoQXK5Z1eUpxYgFqZNcRWN5mByzt5-V-Pbip8bXbN6lrprD55tIepS5UFuRoCI6QQAvD_BwE\">Quantum Computing</a>\n",
    "\n",
    "The following are some possible uses for quantum computing:\n",
    "- Optimization: Improving asset pricing and budgeting methods.\n",
    "- Chemistry: Simulating atomic quantum reactions.\n",
    "- Material Science: Discovering new materials.\n",
    "- Machine Learning: Processing vast data.\n",
    "- Medicine: Modeling atomic-level molecular interactions for drug discovery.\n",
    "- Security: Challenging existing cryptographic protocols.\n",
    "\n",
    "<a href=\"https://jpt.spe.org/quantum-computing-emerges-game-changer?gad_source=1&gclid=CjwKCAjwkY2qBhBDEiwAoQXK5bBLHiUR52BwVdOlnhhH5UKWl2Lq9hNGyWfQqyRi1Q43FpsUrHUD7BoCFEYQAvD_BwE\">Understanding Quantum Computing</a>"
   ]
  },
  {
   "cell_type": "markdown",
   "metadata": {},
   "source": [
    "### Explain Qubits\n",
    "The fundamental unit of quantum information. Unlike regular bits (0 or 1), a qubit can represent both simultaneously due to superposition.\n",
    "#### Superposition:\n",
    "Superposition allows a qubit to be in multiple states at the same time, a key feature that enables quantum computers to perform multiple calculations simultaneously.\n",
    "#### Entanglement:\n",
    "A phenomenon where two or more Qubits become interconnected, the state of one qubit is dependent on the state of another, no matter the distance between them. Changes to one particle instantly affect the others, providing quantum computers additional power."
   ]
  },
  {
   "cell_type": "markdown",
   "metadata": {},
   "source": [
    "<a href=\"https://www.educative.io/blog/intro-to-quantum-computing?utm_campaign=brand_educative&utm_source=google&utm_medium=ppc&utm_content=performance_max&eid=5082902844932096&utm_term=&utm_campaign=%5BNew%5D+Performance+Max&utm_source=adwords&utm_medium=ppc&hsa_acc=5451446008&hsa_cam=18511913007&hsa_grp=&hsa_ad=&hsa_src=x&hsa_tgt=&hsa_kw=&hsa_mt=&hsa_net=adwords&hsa_ver=3&gad_source=1&gclid=Cj0KCQjwtJKqBhCaARIsAN_yS_nQvYJYiPKIVtAbI3n5JNP-Oty-jUALHHOLhLxzEIEyMGM7ygLTHqcaAqPjEALw_wcB\">Qubits, superposition & Entanglement</a>"
   ]
  },
  {
   "cell_type": "markdown",
   "metadata": {},
   "source": [
    "### Quantum Gates and Circuits\n",
    "Quantum computing leverages quantum mechanics principles, using quantum gates to manipulate qubit states. Unlike classical logic gates (AND, OR, NOT) that act on bits, quantum gates exploit superposition and entanglement, allowing simultaneous computations. A notable quantum gate is the Hadamard gate, represented as {H}, which creates a superposition of {0} and {1} states on a qubit. By combining gates like Hadamard, phase, CNOT, and π⁄8, we can form a 'universal set', capable of any computation. Quantum computers can thus simulate any physical system, offering breakthrough insights into our universe. Here's a simple Python code using Qiskit to apply a Hadamard gate:"
   ]
  },
  {
   "cell_type": "markdown",
   "metadata": {},
   "source": [
    "<a href=\"https://techcommunity.microsoft.com/t5/educator-developer-blog/quantum-gates-and-circuits-the-crash-course/ba-p/380463\">Quantum-Gates-and-Circuits</a>"
   ]
  },
  {
   "cell_type": "code",
   "execution_count": 2,
   "metadata": {},
   "outputs": [
    {
     "data": {
      "image/png": "[encoded data removed]",
      "text/plain": [
       "<Figure size 185.453x117.056 with 1 Axes>"
      ]
     },
     "execution_count": 2,
     "metadata": {},
     "output_type": "execute_result"
    }
   ],
   "source": [
    "# Sample Python code using Qiskit to apply a Hadamard gate\n",
    "from qiskit import QuantumCircuit\n",
    "\n",
    "# Create a quantum circuit with one qubit\n",
    "qc = QuantumCircuit(1)\n",
    "\n",
    "# Apply Hadamard gate to the qubit\n",
    "qc.h(0)\n",
    "\n",
    "# Visualize the circuit\n",
    "qc.draw('mpl')\n"
   ]
  },
  {
   "cell_type": "markdown",
   "metadata": {},
   "source": [
    "# References\n",
    "\n",
    "1. [Quantum Computing](https://www.microwavejournal.com/articles/34557-understanding-quantum-computing?gclid=CjwKCAjwkY2qBhBDEiwAoQXK5Z1eUpxYgFqZNcRWN5mByzt5-V-Pbip8bXbN6lrprD55tIepS5UFuRoCI6QQAvD_BwE)\n",
    "2. [Understanding Quantum Computing](https://jpt.spe.org/quantum-computing-emerges-game-changer?gad_source=1&gclid=CjwKCAjwkY2qBhBDEiwAoQXK5bBLHiUR52BwVdOlnhhH5UKWl2Lq9hNGyWfQqyRi1Q43FpsUrHUD7BoCFEYQAvD_BwE)\n",
    "3. [Qubits, superposition & Entanglement](https://www.educative.io/blog/intro-to-quantum-computing?utm_campaign=brand_educative&utm_source=google&utm_medium=ppc&utm_content=performance_max&eid=5082902844932096&utm_term=&utm_campaign=%5BNew%5D+Performance+Max&utm_source=adwords&utm_medium=ppc&hsa_acc=5451446008&hsa_cam=18511913007&hsa_grp=&hsa_ad=&hsa_src=x&hsa_tgt=&hsa_kw=&hsa_mt=&hsa_net=adwords&hsa_ver=3&gad_source=1&gclid=Cj0KCQjwtJKqBhCaARIsAN_yS_nQvYJYiPKIVtAbI3n5JNP-Oty-jUALHHOLhLxzEIEyMGM7ygLTHqcaAqPjEALw_wcB)\n",
    "4.  [Quantum-Gates-and-Circuits](https://techcommunity.microsoft.com/t5/educator-developer-blog/quantum-gates-and-circuits-the-crash-course/ba-p/380463)"
   ]
  }
 ],
 "metadata": {
  "kernelspec": {
   "display_name": "Python 3",
   "language": "python",
   "name": "python3"
  },
  "language_info": {
   "codemirror_mode": {
    "name": "ipython",
    "version": 3
   },
   "file_extension": ".py",
   "mimetype": "text/x-python",
   "name": "python",
   "nbconvert_exporter": "python",
   "pygments_lexer": "ipython3",
   "version": "3.11.0"
  }
 },
 "nbformat": 4,
 "nbformat_minor": 2
}
