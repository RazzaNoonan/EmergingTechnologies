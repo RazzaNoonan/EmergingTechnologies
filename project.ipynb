{
 "cells": [
  {
   "cell_type": "markdown",
   "metadata": {},
   "source": [
    "# <span style=\"color:black\">Welcome to My Project Notebook </span>\n",
    "### <span style=\"color:black\">By Ronan Noonan student number G00384824 </span>\n",
    "### <span style=\"color:black\">Atlantic Technological University </span>"
   ]
  },
  {
   "cell_type": "markdown",
   "metadata": {},
   "source": [
    "<hr>"
   ]
  },
  {
   "cell_type": "markdown",
   "metadata": {},
   "source": [
    "## Introduction "
   ]
  },
  {
   "cell_type": "markdown",
   "metadata": {},
   "source": [
    "In this notebook, I embark on an exciting journey to unravel the intricacies of the Deutsch's algorithm. I will explain its workings, its importance in the field of quantum computing, and how it best represents the capabilities of quantum algorithms through a step-by-step investigation."
   ]
  },
  {
   "cell_type": "markdown",
   "metadata": {},
   "source": [
    "<hr>"
   ]
  },
  {
   "cell_type": "markdown",
   "metadata": {},
   "source": [
    "**Imports:**"
   ]
  },
  {
   "cell_type": "code",
   "execution_count": null,
   "metadata": {},
   "outputs": [],
   "source": [
    "from qiskit import QuantumCircuit , execute, transpile, transpile, BasicAer, Aer\n",
    "from qiskit.visualization import plot_histogram\n",
    "from qiskit.extensions import UnitaryGate\n",
    "import matplotlib.pyplot as plt"
   ]
  },
  {
   "cell_type": "markdown",
   "metadata": {},
   "source": [
    "<hr>"
   ]
  },
  {
   "cell_type": "markdown",
   "metadata": {},
   "source": [
    "##  Understanding Quantum Computing"
   ]
  },
  {
   "cell_type": "markdown",
   "metadata": {},
   "source": [
    "### What is Quantum Computing?\n",
    "Quantum computing is a rapidly-emerging technology that allows us to solve problems too tough for regular computers. These computers use special methods called quantum algorithms to show their potential. One of the earliest and most notable of these methods is the Deutsch algorithm. It was one of the first to demonstrate the potential advantages of quantum computation over classical methods. While it might not have everyday applications, it's crucial in the quantum world. It shows how these new computers can outperform regular ones and hints at the exciting possibilities ahead."
   ]
  },
  {
   "cell_type": "markdown",
   "metadata": {},
   "source": [
    "<a href=\"https://www.ibm.com/topics/quantum-computing\" style=\"color: black;\">**(1) Understanding Quantum Computing** _IBM_</a> & <a href=\"https://www.classiq.io/insights/the-deutsch-jozsa-algorithm-explained\" style=\"color: black;\">**(2) Deutsch Algorithm** _ClassicIQ_</a>"
   ]
  },
  {
   "cell_type": "markdown",
   "metadata": {},
   "source": [
    "### Why do we need quantum computers?\n",
    "When confronted with challenging issues, scientists and engineers often rely on supercomputers. They use these Supercomputers, loaded with advanced CPUs and GPUs, for complex tasks. "
   ]
  },
  {
   "cell_type": "markdown",
   "metadata": {},
   "source": [
    "<a href=\"https://www.ibm.com/topics/quantum-computing\" style=\"color: black;\">**(1) Understanding Quantum Computing** _IBM_</a>"
   ]
  },
  {
   "cell_type": "markdown",
   "metadata": {},
   "source": [
    "### Explain quantum computing\n",
    "Quantum computing offers a novel approach compared to traditional methods. Rather than using bits which are 0 or 1, quantum computers operate with qubits that can be in a superposition of both states. Deutsch's algorithm exemplifies this advantage. It efficiently determines if a function is balanced or constant using just a single quantum query, whereas a classical approach would need two. This quantum efficiency is derived from principles like superposition and entanglement, which allow for advanced computational behaviors. These capabilities underscore the transformative potential of quantum computing."
   ]
  },
  {
   "cell_type": "markdown",
   "metadata": {},
   "source": [
    "<a href=\"https://www.qmunity.tech/tutorials/deutschs-algorithm\" style=\"color: black;\">**(3) Explain Quantum Computing** _Q-Munity_</a>"
   ]
  },
  {
   "cell_type": "markdown",
   "metadata": {},
   "source": [
    "### Quantum being tested against classical\n",
    "IBM's 127-qubit quantum processor was employed in a significant experiment to carry out complex calculations, later verified by classical computers for accuracy. Experts from UC Berkeley and RIKEN iTHEMS participated in this study to assess the advantages of quantum computing over traditional techniques. The outcomes showed that, especially as the complexity of the calculations rose, quantum computing has the potential to handle difficult jobs that classical computers find difficult."
   ]
  },
  {
   "cell_type": "markdown",
   "metadata": {},
   "source": [
    "<a href=\"https://research.ibm.com/blog/utility-toward-useful-quantum\" style=\"color: black;\">**(4) Quantum vs classical** _IBM_</a>"
   ]
  },
  {
   "cell_type": "markdown",
   "metadata": {},
   "source": [
    "### Applications of Quantum Computing:\n",
    "\n",
    "- Optimization: Improving asset pricing and budgeting methods.\n",
    "- Chemistry: Simulating atomic quantum reactions.\n",
    "- Material Science: Discovering new materials.\n",
    "- Machine Learning: Processing vast data.\n",
    "- Medicine: Modeling atomic-level molecular interactions for drug discovery.\n",
    "- Security: Challenging existing cryptographic protocols."
   ]
  },
  {
   "cell_type": "markdown",
   "metadata": {},
   "source": [
    "<a href=\"https://jpt.spe.org/quantum-computing-emerges-game-changer\" style=\"color: black;\">**(5) Quantum Computing Emerges as a Game Changer** _JPT_</a> &"
   ]
  },
  {
   "cell_type": "markdown",
   "metadata": {},
   "source": [
    "<hr>"
   ]
  },
  {
   "cell_type": "markdown",
   "metadata": {},
   "source": [
    "### Explain Qubits\n",
    "The fundamental unit of quantum information. Unlike regular bits (0 or 1), a qubit can represent both simultaneously due to superposition. This is why quantum computers can process vast amount of information.\n",
    "#### Superposition:\n",
    "Superposition allows a qubit to be in multiple states at the same time, a key feature that enables quantum computers to perform multiple calculations simultaneously.\n",
    "#### Entanglement:\n",
    "A phenomenon where two or more Qubits become interconnected, the state of one qubit is dependent on the state of another, no matter the distance between them. Changes to one particle instantly affect the others, providing quantum computers additional power."
   ]
  },
  {
   "cell_type": "markdown",
   "metadata": {},
   "source": [
    "<a href=\"https://www.educative.io/blog/intro-to-quantum-computing\" style=\"color: black;\">**(6) Qubits, superposition & Entanglement** _educative_</a>"
   ]
  },
  {
   "cell_type": "markdown",
   "metadata": {},
   "source": [
    "<hr>"
   ]
  },
  {
   "cell_type": "markdown",
   "metadata": {},
   "source": [
    "## Quantum Gates and the Deutsch Algorithm\n",
    "So we have figured out that Quantum computing operates fundamentally differently than classical computing. Instead of the classical bits, it employs qubits, which are manipulated using quantum gates. Unlike classical gates like AND, OR, and NOT, quantum gates utilize the principles of superposition and entanglement to allow for a richer computational framework. A crucial quantum gate used in many quantum algorithms, including Deutsch's, is the Hadamard gate, denoted as H. This gate can put a qubit in a superposition of both ∣0⟩ and ∣1⟩ states. Combined with other gates such as the phase gate, CNOT, and π/8, we can build a 'universal set' of quantum gates, allowing quantum computers to potentially simulate any physical system and provide new insights into our universe's workings.\n",
    "\n",
    "The Deutsch algorithm specifically utilizes the Hadamard gate to create and manipulate superpositions, aiding in distinguishing between constant and balanced functions in a single query.\n",
    "\n",
    "Here's a simple Python code snippet using Qiskit to demonstrate the application of a Hadamard gate: "
   ]
  },
  {
   "cell_type": "markdown",
   "metadata": {},
   "source": [
    "<a href=\"https://techcommunity.microsoft.com/t5/educator-developer-blog/quantum-gates-and-circuits-the-crash-course/ba-p/380463\" style=\"color: black;\">**(7) Quantum-Gates-and-Circuits** _Anita Ramanan First published on MSDN on Feb 26, 2018_</a>"
   ]
  },
  {
   "cell_type": "code",
   "execution_count": null,
   "metadata": {},
   "outputs": [],
   "source": [
    "# Using Qiskit to apply a Hadamard gate\n",
    "\n",
    "# Create a quantum circuit with one qubit\n",
    "qc = QuantumCircuit(1)\n",
    "\n",
    "# Apply the Hadamard gate to the qubit\n",
    "qc.h(0)\n",
    "\n",
    "# Display the circuit\n",
    "qc.draw('mpl')"
   ]
  },
  {
   "cell_type": "markdown",
   "metadata": {},
   "source": [
    "<hr>"
   ]
  },
  {
   "cell_type": "markdown",
   "metadata": {},
   "source": [
    "\n",
    "## Deutsch's Algorithm\n",
    "\n",
    "Deutsch's Algorithm is a important quantum algorithm that showcases the capabilities and power of quantum computing for specific computational tasks. It's designed to figureout what the binary function is $f: \\{0,1\\} \\rightarrow \\{0,1\\}$ with a single query to a quantum oracle. The algorithm can determine whether the given function is the same output for both inputs or different outputs for each input. This can also be said as constant(same) or balanced(different). What is the problem addressed by Deutsch's Algorithm?\n",
    "\n",
    "The problem addressed by Deutsch's Algorithm can be stated as follows:\n",
    "\n",
    "Given A black-box quantum oracle implementing a function $f: \\{0,1\\} \\rightarrow \\{0,1\\}$ We know this function is guaranteed to be either constant or balanced. A constant function will return the same value either 0 or 1 for both inputs 0 and 1. A balanced function returns opposite values for each input 0 for one input and 1 for the other.  <br>\n",
    "The Objective is to Determine whether the function $f$ is constant or balanced.\n",
    "\n",
    "In classical computing, determining the nature of this function would typically require two queries – one for each input. However, as we have seen with quantum computing we can achieve this with a single query. This shows how quantum computing solves certain problems better than clasical computing. The algorithm operates by mixing two quantum bits into a special quantum state and then applying a specific quantum operation to represent the function. At the end, by measuring these quantum bits, the algorithm figures out if the function always gives the same result or different results for different inputs."
   ]
  },
  {
   "cell_type": "markdown",
   "metadata": {},
   "source": [
    "<a href=\"https://learning.quantum.ibm.com/course/fundamentals-of-quantum-algorithms/quantum-query-algorithms#deutschs-algorithm\" style=\"color: black;\">**(8) Deutsch's Algorithm** _IBM_</a>"
   ]
  },
  {
   "cell_type": "markdown",
   "metadata": {},
   "source": [
    "#### Comparative Analysis with Classical Algorithms\n",
    "In this section, we're comparing two methods to solve the same problem: one using quantum computing (Deutsch's Algorithm) and the other using traditional computing (a classical algorithm). The focus is on how many steps (queries) each method needs and how efficient they are.\n",
    "\n",
    "#### Classical Algorithm Implementation in Python\n",
    "First, let's look at the classical way. It checks if a given function always gives the same result (constant) or different results (balanced)."
   ]
  },
  {
   "cell_type": "code",
   "execution_count": null,
   "metadata": {},
   "outputs": [],
   "source": [
    "# Function to test if another function is constant or balanced\n",
    "def classical_test(function):\n",
    "    return \"Constant\" if function(0) == function(1) else \"Balanced\"\n",
    "\n",
    "# Example: A function that always returns 0\n",
    "def constant_function(x):\n",
    "    return 0\n",
    "\n",
    "# Example: A function that returns the input (0 or 1)\n",
    "def balanced_function(x):\n",
    "    return x\n",
    "\n",
    "print(\"Constant Function Test:\", classical_test(constant_function))\n",
    "print(\"Balanced Function Test:\", classical_test(balanced_function))\n"
   ]
  },
  {
   "cell_type": "markdown",
   "metadata": {},
   "source": [
    "#### Efficiency Comparison\n",
    "* **Classical Approach:** Needs to check the function twice.\n",
    "* **Deutsch's Algorithm:** Figures out the answer with just one check.\n",
    "#### Conclusion\n",
    "By comparing these two methods, we see that quantum computing can be more efficient for certain tasks. Deutsch's Algorithm does the job quicker, needing fewer steps than the classical method."
   ]
  },
  {
   "cell_type": "markdown",
   "metadata": {},
   "source": [
    "<hr>"
   ]
  },
  {
   "cell_type": "markdown",
   "metadata": {},
   "source": [
    "### Implementing Deutsch's Algorithm Using Qiskit"
   ]
  },
  {
   "cell_type": "markdown",
   "metadata": {},
   "source": [
    " Let's use everything we've learned about Deutsch's Algorithm and the theoretical components of quantum computing. Deutsch's Algorithm will be implemented with Qiskit, a potent quantum computing tool."
   ]
  },
  {
   "cell_type": "markdown",
   "metadata": {},
   "source": [
    "**Step by Step implementation**"
   ]
  },
  {
   "cell_type": "markdown",
   "metadata": {},
   "source": [
    "**_STEP 1:_ Constructing the Quantum Circuit for Deutsch's Algorithm** <br>\n",
    "The first step involves building the quantum circuit. We know that Deutsch's Algorithm uses a two-qubit system. The first qubit is the input qubit, and the second is an auxiliary qubit. We apply Hadamard gates to both qubits to create superpositions and then apply the oracle."
   ]
  },
  {
   "cell_type": "code",
   "execution_count": null,
   "metadata": {},
   "outputs": [],
   "source": [
    "# Function to construct Deutsch's Algorithm Circuit\n",
    "def deutsch_circuit(oracle):\n",
    "    qc = QuantumCircuit(2, 1)\n",
    "\n",
    "    # Prepare the second qubit in the |1> state\n",
    "    qc.x(1)\n",
    "\n",
    "    # Apply Hadamard gates to both qubits\n",
    "    qc.h(0)\n",
    "    qc.h(1)\n",
    "    qc.barrier()\n",
    "\n",
    "    # Compose the quantum circuit with the oracle\n",
    "    qc = qc.compose(oracle)\n",
    "    qc.barrier()\n",
    "\n",
    "    # Apply Hadamard to the first qubit and measure\n",
    "    qc.h(0)\n",
    "    qc.measure(0, 0)\n",
    "    return qc\n"
   ]
  },
  {
   "cell_type": "markdown",
   "metadata": {},
   "source": [
    "**_STEP 2: Defining the Oracle** <br>\n",
    "Defined two types of oracles: constant and balanced."
   ]
  },
  {
   "cell_type": "code",
   "execution_count": null,
   "metadata": {},
   "outputs": [],
   "source": [
    "# Define a constant oracle\n",
    "def constant_oracle():\n",
    "    return QuantumCircuit(2)\n",
    "\n",
    "# Define a balanced oracle\n",
    "def balanced_oracle():\n",
    "    qc = QuantumCircuit(2)\n",
    "    # CNOT gate to create a correlation between the qubits\n",
    "    qc.cx(0, 1)\n",
    "    return qc"
   ]
  },
  {
   "cell_type": "markdown",
   "metadata": {},
   "source": [
    "**_STEP 3:_ Visualizing the Circuit** <br>\n",
    "Let's visualize the quantum circuits for both the constant and balanced oracles. This helps in understanding how the oracles are constructed and integrated into the overall circuit."
   ]
  },
  {
   "cell_type": "code",
   "execution_count": null,
   "metadata": {},
   "outputs": [],
   "source": [
    "# Constant Oracle\n",
    "constant_circuit = deutsch_circuit(constant_oracle())\n",
    "print(\"Constant Oracle Circuit:\")\n",
    "display(constant_circuit.draw(output='mpl', style='clifford'))\n",
    "\n",
    "# Balanced Oracle\n",
    "balanced_circuit = deutsch_circuit(balanced_oracle())\n",
    "print(\"Balanced Oracle Circuit:\")\n",
    "display(balanced_circuit.draw(output='mpl', style='clifford'))"
   ]
  },
  {
   "cell_type": "markdown",
   "metadata": {},
   "source": [
    "**_STEP 4:_ Running the Circuit and Analyzing Results** <br>\n",
    "Now, we execute the circuits for both constant and balanced oracles using a quantum simulator. The results are displayed as histograms, which reveal whether the oracle is constant or balanced based on the measurement outcomes."
   ]
  },
  {
   "cell_type": "code",
   "execution_count": null,
   "metadata": {},
   "outputs": [],
   "source": [
    "backend = Aer.get_backend('qasm_simulator')\n",
    "\n",
    "# Execute Constant Oracle Circuit\n",
    "result_constant = execute(constant_circuit, backend, shots=1024).result()\n",
    "counts_constant = result_constant.get_counts()\n",
    "print(\"Result for Constant Oracle:\")\n",
    "display(plot_histogram(counts_constant))\n",
    "\n",
    "# Execute Balanced Oracle Circuit\n",
    "result_balanced = execute(balanced_circuit, backend, shots=1024).result()\n",
    "counts_balanced = result_balanced.get_counts()\n",
    "print(\"Result for Balanced Oracle:\")\n",
    "display(plot_histogram(counts_balanced))\n"
   ]
  },
  {
   "cell_type": "markdown",
   "metadata": {},
   "source": [
    "### Conclusion and Evaluation of Results\n",
    "\n",
    "The histograms for the constant and balanced oracle circuits provide insights into the oracles. For a constant oracle, we expect all measurements to be the same (either all 0s or all 1s), while for a balanced oracle, we expect a 50-50 distribution between 0s and 1s. This demonstrates the effectiveness of Deutsch's Algorithm in distinguishing between constant and balanced functions, highlighting the quantum advantage in certain computational tasks."
   ]
  },
  {
   "cell_type": "markdown",
   "metadata": {},
   "source": [
    "<hr>"
   ]
  },
  {
   "cell_type": "markdown",
   "metadata": {},
   "source": [
    "### Implementing the Deutsch-Jozsa Algorithm Using Qiskit"
   ]
  },
  {
   "cell_type": "markdown",
   "metadata": {},
   "source": [
    "**Step by Step implementation**"
   ]
  },
  {
   "cell_type": "markdown",
   "metadata": {},
   "source": [
    "**_STEP 1:_ Constructing the Quantum Circuit for Deutsch-Jozsa Algorithm** <br>\n",
    "The Deutsch-Jozsa algorithm is executed on a quantum circuit that includes both qubits for computation and classical bits for measurement. The circuit begins with all qubits in the superposition state, followed by the application of the oracle, and finally another set of Hadamard gates before measurement."
   ]
  },
  {
   "cell_type": "code",
   "execution_count": null,
   "metadata": {},
   "outputs": [],
   "source": [
    "# Function to construct Deutsch-Jozsa Algorithm Circuit\n",
    "def deutsch_jozsa_circuit(oracle, n):\n",
    "    qc = QuantumCircuit(n+1, n)\n",
    "\n",
    "    # Preparing the auxiliary qubit in the |1> state\n",
    "    qc.x(n)\n",
    "\n",
    "    # Applying Hadamard gates to all qubits\n",
    "    qc.h(range(n+1))\n",
    "    qc.barrier()\n",
    "\n",
    "    # Adding the oracle to the circuit\n",
    "    qc = qc.compose(oracle)\n",
    "    qc.barrier()\n",
    "\n",
    "    # Applying Hadamard gates to all computational qubits and measuring\n",
    "    qc.h(range(n))\n",
    "    qc.measure(range(n), range(n))\n",
    "    return qc"
   ]
  },
  {
   "cell_type": "markdown",
   "metadata": {},
   "source": [
    "**_STEP 2:_ Defining the Oracle** <br>\n",
    "Define two types of oracles: one for constant functions and another for balanced functions."
   ]
  },
  {
   "cell_type": "code",
   "execution_count": null,
   "metadata": {},
   "outputs": [],
   "source": [
    "# Define a constant oracle for n qubits\n",
    "def constant_oracle(n):\n",
    "    return QuantumCircuit(n+1)\n",
    "\n",
    "# Define a balanced oracle for n qubits\n",
    "def balanced_oracle(n):\n",
    "    qc = QuantumCircuit(n+1)\n",
    "    # Apply CNOT gates to create entanglement and a balanced function\n",
    "    for qubit in range(n):\n",
    "        qc.cx(qubit, n)\n",
    "    return qc\n"
   ]
  },
  {
   "cell_type": "markdown",
   "metadata": {},
   "source": [
    "**_STEP 3:_ Visualizing the Circuit** <br>\n",
    "Visualizing the circuit for both constant and balanced oracles helps us understand the structure of the algorithm and the role of the oracles."
   ]
  },
  {
   "cell_type": "code",
   "execution_count": null,
   "metadata": {},
   "outputs": [],
   "source": [
    "n = 3  # Specify the number of qubits\n",
    "\n",
    "# Visualize the circuit for the Constant Oracle\n",
    "constant_circuit = deutsch_jozsa_circuit(constant_oracle(n), n)\n",
    "print(\"Constant Oracle Circuit:\")\n",
    "display(constant_circuit.draw(output='mpl', style='clifford'))\n",
    "\n",
    "# Visualize the circuit for the Balanced Oracle\n",
    "balanced_circuit = deutsch_jozsa_circuit(balanced_oracle(n), n)\n",
    "print(\"Balanced Oracle Circuit:\")\n",
    "display(balanced_circuit.draw(output='mpl', style='clifford'))\n"
   ]
  },
  {
   "cell_type": "markdown",
   "metadata": {},
   "source": [
    "**_STEP 4:_ Running the Circuit and Observing the Result** <br>\n",
    "We execute the circuits for both constant and balanced oracles on a quantum simulator. The results are analyzed through histograms to determine the nature of the oracle."
   ]
  },
  {
   "cell_type": "code",
   "execution_count": null,
   "metadata": {},
   "outputs": [],
   "source": [
    "# Set up the quantum simulator backend\n",
    "backend = Aer.get_backend('qasm_simulator')\n",
    "\n",
    "# Execute the circuit for the Constant Oracle and analyze results\n",
    "result_constant = execute(constant_circuit, backend, shots=1024).result()\n",
    "counts_constant = result_constant.get_counts()\n",
    "print(\"Result for Constant Oracle:\")\n",
    "display(plot_histogram(counts_constant))\n",
    "\n",
    "# Execute the circuit for the Balanced Oracle and analyze results\n",
    "result_balanced = execute(balanced_circuit, backend, shots=1024).result()\n",
    "counts_balanced = result_balanced.get_counts()\n",
    "print(\"Result for Balanced Oracle:\")\n",
    "display(plot_histogram(counts_balanced))\n"
   ]
  },
  {
   "cell_type": "markdown",
   "metadata": {},
   "source": [
    "### Conclusion and Evaluation of Results\n",
    "\n",
    "The results clearly demonstrate the power of the Deutsch-Jozsa Algorithm. For a constant oracle, all outputs are the same, whereas for a balanced oracle, we see an equal distribution of outputs. This stark difference, evident in the histograms, showcases the quantum advantage in determining the nature of a function with a single evaluation, something that would require multiple evaluations in classical computing.\n"
   ]
  },
  {
   "cell_type": "markdown",
   "metadata": {},
   "source": [
    "<a href=\"https://www.youtube.com/watch?v=pq2Okr_BO-Y\" style=\"color: red;\">**(9) Implementation of Deutsch--Josza Algorithm in Qiskit** _Quantum Computing group at LUMS_</a>"
   ]
  },
  {
   "cell_type": "markdown",
   "metadata": {},
   "source": [
    "<hr>"
   ]
  },
  {
   "cell_type": "markdown",
   "metadata": {},
   "source": [
    "## Quantum entanglement in quantum computers "
   ]
  },
  {
   "cell_type": "markdown",
   "metadata": {},
   "source": [
    "### Introduction to Quantum Entanglement\n",
    "Quantum entanglement is an important aspect of quantum computing. When qubits become entangled, the state of one qubit is directly correlated with the state of another, no matter the distance between them."
   ]
  },
  {
   "cell_type": "markdown",
   "metadata": {},
   "source": [
    "### Entanglement in Deutsch's Algorithm\n",
    "Deutsch's Algorithm relies heavily on entanglement. Entanglement lets the algorithm work on multiple inputs at the same time, thanks to superposition. This is different from basic superposition, where a single qubit can be in several states at once.\n",
    "\n",
    "Demonstrating the creation of a simple entangled state using Qiskit:"
   ]
  },
  {
   "cell_type": "markdown",
   "metadata": {},
   "source": [
    "_STEP 1_: Creating the Quantum Circuit"
   ]
  },
  {
   "cell_type": "code",
   "execution_count": null,
   "metadata": {},
   "outputs": [],
   "source": [
    "# Create a quantum circuit with 2 qubits and 2 classical bits for measurement\n",
    "entanglement_circuit = QuantumCircuit(2, 2)"
   ]
  },
  {
   "cell_type": "markdown",
   "metadata": {},
   "source": [
    "_STEP 2_: Applying Hadamard and CNOT Gates"
   ]
  },
  {
   "cell_type": "code",
   "execution_count": null,
   "metadata": {},
   "outputs": [],
   "source": [
    "# Apply a Hadamard gate to the first qubit to create a superposition\n",
    "entanglement_circuit.h(0)\n",
    "# Apply a CNOT gate to entangle the two qubits\n",
    "entanglement_circuit.cx(0, 1);"
   ]
  },
  {
   "cell_type": "markdown",
   "metadata": {},
   "source": [
    "_STEP 3_: Measuring Qubits"
   ]
  },
  {
   "cell_type": "code",
   "execution_count": null,
   "metadata": {},
   "outputs": [],
   "source": [
    "# Measure both qubits\n",
    "entanglement_circuit.measure([0,1], [0,1]);"
   ]
  },
  {
   "cell_type": "markdown",
   "metadata": {},
   "source": [
    "_STEP 4_: Drawing the Circuit"
   ]
  },
  {
   "cell_type": "code",
   "execution_count": null,
   "metadata": {},
   "outputs": [],
   "source": [
    "# Draw the circuit using the specified style to avoid the FutureWarning\n",
    "entanglement_circuit_figure = entanglement_circuit.draw(output='mpl', style='iqp')\n",
    "\n",
    "# Set a title for the figure\n",
    "entanglement_circuit_figure.suptitle(\"Quantum Entanglement Circuit\", fontsize=16)\n",
    "\n",
    "# Display the circuit diagram (In Jupyter Notebook, this line may not be necessary)\n",
    "display(entanglement_circuit_figure)\n"
   ]
  },
  {
   "cell_type": "markdown",
   "metadata": {},
   "source": [
    "_STEP 5_: Executing the Circuit on a Simulator"
   ]
  },
  {
   "cell_type": "code",
   "execution_count": null,
   "metadata": {},
   "outputs": [],
   "source": [
    "# Use BasicAer's qasm_simulator to execute the circuit\n",
    "simulator = BasicAer.get_backend('qasm_simulator')"
   ]
  },
  {
   "cell_type": "markdown",
   "metadata": {},
   "source": [
    "_STEP 6_: Running the Circuit and Observing Results"
   ]
  },
  {
   "cell_type": "code",
   "execution_count": null,
   "metadata": {},
   "outputs": [],
   "source": [
    "# Run the circuit on the simulator and collect the results\n",
    "result = execute(entanglement_circuit, backend=simulator, shots=1024).result()"
   ]
  },
  {
   "cell_type": "markdown",
   "metadata": {},
   "source": [
    "_STEP 7_: Extracting Counts"
   ]
  },
  {
   "cell_type": "code",
   "execution_count": null,
   "metadata": {},
   "outputs": [],
   "source": [
    "# Extract the counts of each result \n",
    "counts_entanglement = result.get_counts(entanglement_circuit)"
   ]
  },
  {
   "cell_type": "markdown",
   "metadata": {},
   "source": [
    "_STEP 8_: Plotting Histogram"
   ]
  },
  {
   "cell_type": "code",
   "execution_count": null,
   "metadata": {},
   "outputs": [],
   "source": [
    "\n",
    "# Plot the histogram using Matplotlib for a customized appearance\n",
    "plt.figure(figsize=(10, 6))\n",
    "plt.bar(counts_entanglement.keys(), counts_entanglement.values(), color='royalblue')\n",
    "plt.xlabel('Output States', fontsize=12)\n",
    "plt.ylabel('Counts', fontsize=12)\n",
    "plt.title(\"Quantum Entanglement Demonstration Results\", fontsize=15)\n",
    "plt.xticks(rotation=45)  # Rotate the x-axis labels for better readability\n",
    "plt.show()  # Display the histogram"
   ]
  },
  {
   "cell_type": "markdown",
   "metadata": {},
   "source": [
    "#### Evaluation of Results\n",
    "The executed quantum entanglement circuit produced measurement results, and the corresponding histogram provides insights into the entangled states of the qubits. The output states and their counts indicate the outcome of the entanglement experiment.\n",
    "\n",
    "#### Conclusion\n",
    "The example effectively explains the fundamental idea behind quantum entanglement. No matter how far apart two qubits are from one another, their states are intimately connected when they are entangled. The entangled states that were obtained throughout the quantum circuit's execution are displayed in the histogram's observed outcomes.\n",
    "\n",
    "The first step in utilizing the special powers of quantum computers to solve complicated problems faster than traditional computers is to comprehend and utilize entanglement."
   ]
  },
  {
   "cell_type": "markdown",
   "metadata": {},
   "source": [
    "<hr>"
   ]
  },
  {
   "cell_type": "markdown",
   "metadata": {},
   "source": [
    "## Conclusion\n",
    "The exploration of Deutsch's Algorithm in this project has significantly deepened the understanding of quantum computing's fundamentals and its expansive possibilities. A thorough understanding of fundamental quantum physics ideas, like superposition and entanglement, has been attained through practical applications with Qiskit. This experience has strengthened theoretical understanding and improved my ability to perform quantum programming, which is a crucial ability in this quickly developing industry. All things considered, this study clearly illustrates the enormous potential of quantum computing, opening up new directions for creativity and reiterating its revolutionary significance in solving difficult problems."
   ]
  },
  {
   "cell_type": "markdown",
   "metadata": {},
   "source": [
    "## <span style=\"color: black;\">References</span>\n",
    "\n",
    "1. https://www.ibm.com/topics/quantum-computing <span style=\"color: black;\">Understanding Quantum Computing</span>\n",
    "2. https://www.classiq.io/insights/the-deutsch-jozsa-algorithm-explained <span style=\"color: black;\">Deutch Algorithm</span>\n",
    "3. https://www.qmunity.tech/tutorials/deutschs-algorithm\" <span style=\"color: black;\">Explain Quantum computing</span>\n",
    "4. https://research.ibm.com/blog/utility-toward-useful-quantum <span style=\"color: black;\">Quantum vs Classical</span>\n",
    "5. https://jpt.spe.org/quantum-computing-emerges-game-changer <span style=\"color: black;\">Quantum Computing Emerges as a Game Changer</span>\n",
    "6. https://www.educative.io/blog/intro-to-quantum-computing <span style=\"color: black;\">Qubits, superposition & Entanglement</span>\n",
    "7.  https://techcommunity.microsoft.com/t5/educator-developer-blog/quantum-gates-and-circuits-the-crash-course/ba-p/380463 <span style=\"color: black;\">Quantum-Gates-and-Circuits</span>\n",
    "8.  https://learning.quantum.ibm.com/course/fundamentals-of-quantum-algorithms/quantum-query-algorithms#deutschs-algorithm <span style=\"color: black;\">Deutsch's Algorithm</span>\n",
    "<!-- 9.  https://quantuc.org/index.php/courses/introductory-quantum-computing/ <span style=\"color: black;\">Introductory Quantum Computing</span> -->\n"
   ]
  },
  {
   "cell_type": "markdown",
   "metadata": {},
   "source": [
    "## <span style=\"color: red;\">Videos</span>\n",
    "\n",
    "9. https://www.youtube.com/watch?v=pq2Okr_BO-Y <span style=\"color: red;\">Implementation of Deutsch--Josza Algorithm in Qiskit</span>"
   ]
  }
 ],
 "metadata": {
  "kernelspec": {
   "display_name": "Python 3",
   "language": "python",
   "name": "python3"
  },
  "language_info": {
   "codemirror_mode": {
    "name": "ipython",
    "version": 3
   },
   "file_extension": ".py",
   "mimetype": "text/x-python",
   "name": "python",
   "nbconvert_exporter": "python",
   "pygments_lexer": "ipython3",
   "version": "3.11.0"
  }
 },
 "nbformat": 4,
 "nbformat_minor": 2
}
