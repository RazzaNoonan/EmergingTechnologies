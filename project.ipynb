{
 "cells": [
  {
   "cell_type": "markdown",
   "metadata": {},
   "source": [
    "# <span style=\"color:black\">Welcome to My Project Notebook </span>\n",
    "### <span style=\"color:black\">By Ronan Noonan student number G00384824 </span>\n",
    "### <span style=\"color:black\">Atlantic Technological University </span>"
   ]
  },
  {
   "cell_type": "markdown",
   "metadata": {},
   "source": [
    "<hr>"
   ]
  },
  {
   "cell_type": "markdown",
   "metadata": {},
   "source": [
    "## Introduction "
   ]
  },
  {
   "cell_type": "markdown",
   "metadata": {},
   "source": [
    "In this notebook, I embark on an exciting journey to unravel the intricacies of the Deutsch's algorithm. I will explain its workings, its importance in the field of quantum computing, and how it best represents the capabilities of quantum algorithms through a step-by-step investigation."
   ]
  },
  {
   "cell_type": "markdown",
   "metadata": {},
   "source": [
    "<hr>"
   ]
  },
  {
   "cell_type": "markdown",
   "metadata": {},
   "source": [
    "**Imports:**"
   ]
  },
  {
   "cell_type": "code",
   "execution_count": 413,
   "metadata": {},
   "outputs": [],
   "source": [
    "from qiskit import QuantumCircuit , execute, transpile, transpile, BasicAer\n",
    "from qiskit.visualization import plot_histogram\n",
    "import matplotlib.pyplot as plt"
   ]
  },
  {
   "cell_type": "markdown",
   "metadata": {},
   "source": [
    "<hr>"
   ]
  },
  {
   "cell_type": "markdown",
   "metadata": {},
   "source": [
    "##  Understanding Quantum Computing"
   ]
  },
  {
   "cell_type": "markdown",
   "metadata": {},
   "source": [
    "### What is Quantum Computing?\n",
    "Quantum computing is a rapidly-emerging technology that allows us to solve problems too tough for regular computers. These computers use special methods called quantum algorithms to show their potential. One of the earliest and most notable of these methods is the Deutsch algorithm. It was one of the first to demonstrate the potential advantages of quantum computation over classical methods. While it might not have everyday applications, it's crucial in the quantum world. It shows how these new computers can outperform regular ones and hints at the exciting possibilities ahead."
   ]
  },
  {
   "cell_type": "markdown",
   "metadata": {},
   "source": [
    "<a href=\"https://www.ibm.com/topics/quantum-computing\" style=\"color: black;\">**(1) Understanding Quantum Computing** _IBM_</a> & <a href=\"https://www.classiq.io/insights/the-deutsch-jozsa-algorithm-explained\" style=\"color: black;\">**(2) Deutsch Algorithm** _ClassicIQ_</a>"
   ]
  },
  {
   "cell_type": "markdown",
   "metadata": {},
   "source": [
    "### Why do we need quantum computers?\n",
    "When confronted with challenging issues, scientists and engineers often rely on supercomputers. They use these Supercomputers, loaded with advanced CPUs and GPUs, for complex tasks. "
   ]
  },
  {
   "cell_type": "markdown",
   "metadata": {},
   "source": [
    "<a href=\"https://www.ibm.com/topics/quantum-computing\" style=\"color: black;\">**(1) Understanding Quantum Computing** _IBM_</a>"
   ]
  },
  {
   "cell_type": "markdown",
   "metadata": {},
   "source": [
    "### Explain quantum computing\n",
    "Quantum computing offers a novel approach compared to traditional methods. Rather than using bits which are 0 or 1, quantum computers operate with qubits that can be in a superposition of both states. Deutsch's algorithm exemplifies this advantage. It efficiently determines if a function is balanced or constant using just a single quantum query, whereas a classical approach would need two. This quantum efficiency is derived from principles like superposition and entanglement, which allow for advanced computational behaviors. These capabilities underscore the transformative potential of quantum computing."
   ]
  },
  {
   "cell_type": "markdown",
   "metadata": {},
   "source": [
    "<a href=\"https://www.qmunity.tech/tutorials/deutschs-algorithm\" style=\"color: black;\">**(3) Explain Quantum Computing** _Q-Munity_</a>"
   ]
  },
  {
   "cell_type": "markdown",
   "metadata": {},
   "source": [
    "### Quantum being tested against classical\n",
    "IBM's 127-qubit quantum processor was employed in a significant experiment to carry out complex calculations, later verified by classical computers for accuracy. Experts from UC Berkeley and RIKEN iTHEMS participated in this study to assess the advantages of quantum computing over traditional techniques. The outcomes showed that, especially as the complexity of the calculations rose, quantum computing has the potential to handle difficult jobs that classical computers find difficult."
   ]
  },
  {
   "cell_type": "markdown",
   "metadata": {},
   "source": [
    "<a href=\"https://research.ibm.com/blog/utility-toward-useful-quantum\" style=\"color: black;\">**(4) Quantum vs classical** _IBM_</a>"
   ]
  },
  {
   "cell_type": "markdown",
   "metadata": {},
   "source": [
    "### Applications of Quantum Computing:\n",
    "\n",
    "- Optimization: Improving asset pricing and budgeting methods.\n",
    "- Chemistry: Simulating atomic quantum reactions.\n",
    "- Material Science: Discovering new materials.\n",
    "- Machine Learning: Processing vast data.\n",
    "- Medicine: Modeling atomic-level molecular interactions for drug discovery.\n",
    "- Security: Challenging existing cryptographic protocols."
   ]
  },
  {
   "cell_type": "markdown",
   "metadata": {},
   "source": [
    "<a href=\"https://jpt.spe.org/quantum-computing-emerges-game-changer\" style=\"color: black;\">**(5) Quantum Computing Emerges as a Game Changer** _JPT_</a> &"
   ]
  },
  {
   "cell_type": "markdown",
   "metadata": {},
   "source": [
    "<hr>"
   ]
  },
  {
   "cell_type": "markdown",
   "metadata": {},
   "source": [
    "### Explain Qubits\n",
    "The fundamental unit of quantum information. Unlike regular bits (0 or 1), a qubit can represent both simultaneously due to superposition. This is why quantum computers can process vast amount of information.\n",
    "#### Superposition:\n",
    "Superposition allows a qubit to be in multiple states at the same time, a key feature that enables quantum computers to perform multiple calculations simultaneously.\n",
    "#### Entanglement:\n",
    "A phenomenon where two or more Qubits become interconnected, the state of one qubit is dependent on the state of another, no matter the distance between them. Changes to one particle instantly affect the others, providing quantum computers additional power."
   ]
  },
  {
   "cell_type": "markdown",
   "metadata": {},
   "source": [
    "<a href=\"https://www.educative.io/blog/intro-to-quantum-computing\" style=\"color: black;\">**(6) Qubits, superposition & Entanglement** _educative_</a>"
   ]
  },
  {
   "cell_type": "markdown",
   "metadata": {},
   "source": [
    "<hr>"
   ]
  },
  {
   "cell_type": "markdown",
   "metadata": {},
   "source": [
    "## Quantum Gates and the Deutsch Algorithm\n",
    "So we have figured out that Quantum computing operates fundamentally differently than classical computing. Instead of the classical bits, it employs qubits, which are manipulated using quantum gates. Unlike classical gates like AND, OR, and NOT, quantum gates utilize the principles of superposition and entanglement to allow for a richer computational framework. A crucial quantum gate used in many quantum algorithms, including Deutsch's, is the Hadamard gate, denoted as H. This gate can put a qubit in a superposition of both ∣0⟩ and ∣1⟩ states. Combined with other gates such as the phase gate, CNOT, and π/8, we can build a 'universal set' of quantum gates, allowing quantum computers to potentially simulate any physical system and provide new insights into our universe's workings.\n",
    "\n",
    "The Deutsch algorithm specifically utilizes the Hadamard gate to create and manipulate superpositions, aiding in distinguishing between constant and balanced functions in a single query.\n",
    "\n",
    "Here's a simple Python code snippet using Qiskit to demonstrate the application of a Hadamard gate: "
   ]
  },
  {
   "cell_type": "markdown",
   "metadata": {},
   "source": [
    "<a href=\"https://techcommunity.microsoft.com/t5/educator-developer-blog/quantum-gates-and-circuits-the-crash-course/ba-p/380463\" style=\"color: black;\">**(7) Quantum-Gates-and-Circuits** _Anita Ramanan First published on MSDN on Feb 26, 2018_</a>"
   ]
  },
  {
   "cell_type": "code",
   "execution_count": 414,
   "metadata": {},
   "outputs": [
    {
     "data": {
      "image/png": "[encoded data removed]",
      "text/plain": [
       "<Figure size 185.453x117.056 with 1 Axes>"
      ]
     },
     "execution_count": 414,
     "metadata": {},
     "output_type": "execute_result"
    }
   ],
   "source": [
    "# Using Qiskit to apply a Hadamard gate\n",
    "\n",
    "# Create a quantum circuit with one qubit\n",
    "qc = QuantumCircuit(1)\n",
    "\n",
    "# Apply the Hadamard gate to the qubit\n",
    "qc.h(0)\n",
    "\n",
    "# Display the circuit\n",
    "qc.draw('mpl')"
   ]
  },
  {
   "cell_type": "markdown",
   "metadata": {},
   "source": [
    "<hr>"
   ]
  },
  {
   "cell_type": "markdown",
   "metadata": {},
   "source": [
    "\n",
    "## Deutsch's Algorithm\n",
    "\n",
    "Deutsch's Algorithm is a important quantum algorithm that showcases the capabilities and power of quantum computing for specific computational tasks. It's designed to figureout what the binary function is $f: \\{0,1\\} \\rightarrow \\{0,1\\}$ with a single query to a quantum oracle. The algorithm can determine whether the given function is the same output for both inputs or different outputs for each input. This can also be said as constant(same) or balanced(different). What is the problem addressed by Deutsch's Algorithm?\n",
    "\n",
    "The problem addressed by Deutsch's Algorithm can be stated as follows:\n",
    "\n",
    "Given A black-box quantum oracle implementing a function $f: \\{0,1\\} \\rightarrow \\{0,1\\}$ We know this function is guaranteed to be either constant or balanced. A constant function will return the same value either 0 or 1 for both inputs 0 and 1. A balanced function returns opposite values for each input 0 for one input and 1 for the other.  <br>\n",
    "The Objective is to Determine whether the function $f$ is constant or balanced.\n",
    "\n",
    "In classical computing, determining the nature of this function would typically require two queries – one for each input. However, as we have seen with quantum computing we can achieve this with a single query. This shows how quantum computing solves certain problems better than clasical computing. The algorithm operates by mixing two quantum bits into a special quantum state and then applying a specific quantum operation to represent the function. At the end, by measuring these quantum bits, the algorithm figures out if the function always gives the same result or different results for different inputs."
   ]
  },
  {
   "cell_type": "markdown",
   "metadata": {},
   "source": [
    "<a href=\"https://learning.quantum.ibm.com/course/fundamentals-of-quantum-algorithms/quantum-query-algorithms#deutschs-algorithm\" style=\"color: black;\">**(8) Deutsch's Algorithm** _IBM_</a>"
   ]
  },
  {
   "cell_type": "markdown",
   "metadata": {},
   "source": [
    "<hr>"
   ]
  },
  {
   "cell_type": "markdown",
   "metadata": {},
   "source": [
    "## Implementing Deutsch's Algorithm Using Qiskit"
   ]
  },
  {
   "cell_type": "markdown",
   "metadata": {},
   "source": [
    " Let's use everything we've learned about Deutsch's Algorithm and the theoretical components of quantum computing. Deutsch's Algorithm will be implemented with Qiskit, a potent quantum computing tool."
   ]
  },
  {
   "cell_type": "markdown",
   "metadata": {},
   "source": [
    "**Step by Step implementation**"
   ]
  },
  {
   "cell_type": "markdown",
   "metadata": {},
   "source": [
    "_STEP 1:_ Constructing the Quantum Circuit"
   ]
  },
  {
   "cell_type": "code",
   "execution_count": 415,
   "metadata": {},
   "outputs": [],
   "source": [
    "# Creating a quantum circuit with 2 qubits and 1 classical bit for Deutsch's algorithm\n",
    "deutsch_circuit = QuantumCircuit(2, 1)"
   ]
  },
  {
   "cell_type": "markdown",
   "metadata": {},
   "source": [
    "_STEP 2:_ Preparing the Qubits"
   ]
  },
  {
   "cell_type": "code",
   "execution_count": 416,
   "metadata": {},
   "outputs": [],
   "source": [
    "# Applying Hadamard gate to both qubits to create a superposition state\n",
    "deutsch_circuit.h(0)\n",
    "# Preparing the second qubit in the |1> state before applying Hadamard\n",
    "deutsch_circuit.x(1)\n",
    "deutsch_circuit.h(1);"
   ]
  },
  {
   "cell_type": "markdown",
   "metadata": {},
   "source": [
    "_STEP 3_: Implementing the Oracle"
   ]
  },
  {
   "cell_type": "code",
   "execution_count": 417,
   "metadata": {},
   "outputs": [],
   "source": [
    "# Example of a balanced oracle using CNOT gate\n",
    "deutsch_circuit.cx(0, 1);\n",
    "\n",
    "# Uncomment the following line for a constant oracle example\n",
    "# deutsch_circuit.id(0);\n"
   ]
  },
  {
   "cell_type": "markdown",
   "metadata": {},
   "source": [
    "_STEP 4:_ Completing the Circuit"
   ]
  },
  {
   "cell_type": "code",
   "execution_count": 418,
   "metadata": {},
   "outputs": [],
   "source": [
    "# Applying Hadamard gate to the first qubit and measuring\n",
    "deutsch_circuit.h(0)\n",
    "deutsch_circuit.measure(0, 0);"
   ]
  },
  {
   "cell_type": "markdown",
   "metadata": {},
   "source": [
    "_STEP 5:_ Displaying the Circuit"
   ]
  },
  {
   "cell_type": "code",
   "execution_count": 419,
   "metadata": {},
   "outputs": [],
   "source": [
    "# Display the circuit with Matplotlib\n",
    "deutsch_circuit_figure = deutsch_circuit.draw(output='mpl', style='iqx')\n",
    "deutsch_circuit_figure.suptitle(\"Deutsch's Algorithm Circuit\", fontsize=16)\n",
    "plt.show()\n",
    "\n"
   ]
  },
  {
   "cell_type": "markdown",
   "metadata": {},
   "source": [
    "_STEP 6:_ Running the Circuit and Observing the Result"
   ]
  },
  {
   "cell_type": "code",
   "execution_count": 420,
   "metadata": {},
   "outputs": [],
   "source": [
    "# Using BasicAer's qasm_simulator backend to run the circuit\n",
    "simulator = BasicAer.get_backend('qasm_simulator')\n",
    "# Executing the circuit using the simulator\n",
    "result = execute(deutsch_circuit, backend=simulator, shots=1024).result()\n",
    "\n",
    "\n"
   ]
  },
  {
   "cell_type": "markdown",
   "metadata": {},
   "source": [
    "_STEP 7:_ Visualizing the Results"
   ]
  },
  {
   "cell_type": "code",
   "execution_count": 421,
   "metadata": {},
   "outputs": [
    {
     "data": {
      "image/png": "[encoded data removed]",
      "text/plain": [
       "<Figure size 1000x600 with 1 Axes>"
      ]
     },
     "metadata": {},
     "output_type": "display_data"
    }
   ],
   "source": [
    "# Plotting the results using Matplotlib for a customized histogram\n",
    "counts = result.get_counts(deutsch_circuit)\n",
    "plt.figure(figsize=(10, 6))\n",
    "plt.bar(counts.keys(), counts.values(), color='royalblue')\n",
    "plt.xlabel('Output States', fontsize=12)\n",
    "plt.ylabel('Counts', fontsize=12)\n",
    "plt.title(\"Results of Deutsch's Algorithm\", fontsize=15)\n",
    "plt.xticks(rotation=45)\n",
    "plt.show()"
   ]
  },
  {
   "cell_type": "markdown",
   "metadata": {},
   "source": [
    "##### **Evaluation of results**\n",
    "The output '0' indicates a constant function, while '1' indicates a balanced function.\n",
    "This result demonstrates the quantum advantage in query complexity.\n",
    "\n",
    "##### **Conclusion**\n",
    "Implementing Deutsch's Algorithm provides practical insights into the power of quantum computing and its potential to solve complex problems more efficiently than classical computing."
   ]
  },
  {
   "cell_type": "markdown",
   "metadata": {},
   "source": [
    "### Implementing the Deutsch-Jozsa Algorithm Using Qiskit"
   ]
  },
  {
   "cell_type": "markdown",
   "metadata": {},
   "source": [
    "_STEP 1:_ Constructing the Quantum Circuit for Deutsch-Jozsa Algorithm"
   ]
  },
  {
   "cell_type": "code",
   "execution_count": 422,
   "metadata": {},
   "outputs": [],
   "source": [
    "# Setting the number of input bits for the function\n",
    "n = 3  # This can be adjusted depending on the problem\n",
    "# Creating a quantum circuit with n input qubits and one ancillary qubit (total n+1), plus n classical bits for measurement\n",
    "deutsch_jozsa_circuit = QuantumCircuit(n + 1, n)"
   ]
  },
  {
   "cell_type": "markdown",
   "metadata": {},
   "source": [
    "_STEP 2:_ Preparing the Qubits"
   ]
  },
  {
   "cell_type": "code",
   "execution_count": 423,
   "metadata": {},
   "outputs": [],
   "source": [
    "# Apply Hadamard gates to input qubits to put them into a superposition of states\n",
    "for qubit in range(n):\n",
    "    deutsch_jozsa_circuit.h(qubit)\n",
    "# Prepare the ancillary qubit in state |1> and then apply Hadamard\n",
    "deutsch_jozsa_circuit.x(n)\n",
    "deutsch_jozsa_circuit.h(n);\n"
   ]
  },
  {
   "cell_type": "markdown",
   "metadata": {},
   "source": [
    "_STEP 3:_ Implementing the Oracle"
   ]
  },
  {
   "cell_type": "code",
   "execution_count": 424,
   "metadata": {},
   "outputs": [],
   "source": [
    "# Example of a balanced oracle\n",
    "# Using barrier for visualization purposes\n",
    "deutsch_jozsa_circuit.barrier()\n",
    "# Apply CNOT gates as part of the oracle, entangling input qubits with the ancillary qubit\n",
    "for qubit in range(n):\n",
    "    deutsch_jozsa_circuit.cx(qubit, n)\n",
    "deutsch_jozsa_circuit.barrier();\n"
   ]
  },
  {
   "cell_type": "markdown",
   "metadata": {},
   "source": [
    "_STEP 4:_ Completing the Circuit"
   ]
  },
  {
   "cell_type": "code",
   "execution_count": 425,
   "metadata": {},
   "outputs": [],
   "source": [
    "# Apply Hadamard gates to all input qubits and measure\n",
    "for qubit in range(n):\n",
    "    deutsch_jozsa_circuit.h(qubit)\n",
    "    deutsch_jozsa_circuit.measure(qubit, qubit)\n"
   ]
  },
  {
   "cell_type": "markdown",
   "metadata": {},
   "source": [
    "_STEP 5:_ Displaying the Circuit with a title using Matplotlib"
   ]
  },
  {
   "cell_type": "code",
   "execution_count": 426,
   "metadata": {},
   "outputs": [],
   "source": [
    "deutsch_jozsa_figure = deutsch_jozsa_circuit.draw(output='mpl')\n",
    "deutsch_jozsa_figure.suptitle(\"Deutsch-Jozsa Algorithm Circuit\", fontsize=16)\n",
    "plt.show()"
   ]
  },
  {
   "cell_type": "markdown",
   "metadata": {},
   "source": [
    "_STEP 6:_ Running the Circuit and Observing the Result"
   ]
  },
  {
   "cell_type": "code",
   "execution_count": 427,
   "metadata": {},
   "outputs": [
    {
     "data": {
      "image/png": "[encoded data removed]",
      "text/plain": [
       "<Figure size 185.453x117.056 with 1 Axes>"
      ]
     },
     "execution_count": 427,
     "metadata": {},
     "output_type": "execute_result"
    }
   ],
   "source": [
    "\n",
    "# Using BasicAer's qasm_simulator backend to run the circuit\n",
    "simulator = BasicAer.get_backend('qasm_simulator')\n",
    "# Executing the circuit using the simulator\n",
    "result = execute(deutsch_jozsa_circuit, backend=simulator, shots=1024).result()\n",
    "\n",
    "_"
   ]
  },
  {
   "cell_type": "markdown",
   "metadata": {},
   "source": [
    "_STEP 7:_ Displaying the results"
   ]
  },
  {
   "cell_type": "code",
   "execution_count": 428,
   "metadata": {},
   "outputs": [
    {
     "data": {
      "image/png": "[encoded data removed]",
      "text/plain": [
       "<Figure size 1000x600 with 1 Axes>"
      ]
     },
     "metadata": {},
     "output_type": "display_data"
    }
   ],
   "source": [
    "# Plotting the results using Matplotlib for a customized histogram\n",
    "counts_deutsch_jozsa = result.get_counts(deutsch_jozsa_circuit)\n",
    "plt.figure(figsize=(10, 6))\n",
    "plt.bar(counts_deutsch_jozsa.keys(), counts_deutsch_jozsa.values(), color='royalblue')\n",
    "plt.xlabel('Output States', fontsize=12)\n",
    "plt.ylabel('Counts', fontsize=12)\n",
    "plt.title(\"Results of Deutsch-Jozsa Algorithm\", fontsize=15)\n",
    "plt.xticks(rotation=45)\n",
    "plt.show()"
   ]
  },
  {
   "cell_type": "markdown",
   "metadata": {},
   "source": [
    "##### **Evaluation of results**\n",
    "In the Deutsch-Jozsa algorithm, an output of all 0's means it's a constant function, while any other result means it's a balanced function.\n",
    "This demonstrates the quantum algorithm's ability to solve the problem with a single query.\n",
    "\n",
    "##### **Conclusion**\n",
    "This algorithm shows how quantum computing can be more effective than classical computing for specific tasks, like figuring out what type of function we have. It highlights the special abilities of quantum computers in solving certain problems more efficiently."
   ]
  },
  {
   "cell_type": "markdown",
   "metadata": {},
   "source": [
    "<a href=\"https://www.youtube.com/watch?v=pq2Okr_BO-Y\" style=\"color: black;\">**(9) Deutsch's Joza Algorithm in Qisket** _IBM_</a>"
   ]
  },
  {
   "cell_type": "markdown",
   "metadata": {},
   "source": [
    "<hr>"
   ]
  },
  {
   "cell_type": "markdown",
   "metadata": {},
   "source": [
    "## Quantum entanglement in quantum computers "
   ]
  },
  {
   "cell_type": "markdown",
   "metadata": {},
   "source": [
    "### Introduction to Quantum Entanglement\n",
    "Quantum entanglement is an important aspect of quantum computing. When qubits become entangled, the state of one qubit is directly correlated with the state of another, no matter the distance between them."
   ]
  },
  {
   "cell_type": "markdown",
   "metadata": {},
   "source": [
    "### Entanglement in Deutsch's Algorithm\n",
    "Deutsch's Algorithm relies heavily on entanglement. Entanglement lets the algorithm work on multiple inputs at the same time, thanks to superposition. This is different from basic superposition, where a single qubit can be in several states at once.\n",
    "\n",
    "Demonstrating the creation of a simple entangled state using Qiskit:"
   ]
  },
  {
   "cell_type": "code",
   "execution_count": 429,
   "metadata": {},
   "outputs": [
    {
     "data": {
      "image/png": "[encoded data removed]",
      "text/plain": [
       "<Figure size 1000x600 with 1 Axes>"
      ]
     },
     "metadata": {},
     "output_type": "display_data"
    }
   ],
   "source": [
    "# Create a quantum circuit with 2 qubits and 2 classical bits for measurement\n",
    "entanglement_circuit = QuantumCircuit(2, 2)\n",
    "\n",
    "# Apply a Hadamard gate to the first qubit to create a superposition\n",
    "entanglement_circuit.h(0)\n",
    "# Apply a CNOT gate to entangle the two qubits\n",
    "entanglement_circuit.cx(0, 1)\n",
    "\n",
    "# Measure both qubits\n",
    "entanglement_circuit.measure([0,1], [0,1])\n",
    "\n",
    "# Draw the circuit\n",
    "entanglement_circuit_figure = entanglement_circuit.draw(output='mpl')\n",
    "entanglement_circuit_figure.suptitle(\"Quantum Entanglement Circuit\", fontsize=16)\n",
    "plt.show()  # Display the circuit diagram\n",
    "\n",
    "# Use BasicAer's qasm_simulator to execute the circuit\n",
    "simulator = BasicAer.get_backend('qasm_simulator')\n",
    "\n",
    "# Run the circuit on the simulator and collect the results\n",
    "result = execute(entanglement_circuit, backend=simulator, shots=1024).result()\n",
    "\n",
    "# Extract the counts of each result \n",
    "counts_entanglement = result.get_counts(entanglement_circuit)\n",
    "\n",
    "# Plot the histogram using Matplotlib for a customized appearance\n",
    "plt.figure(figsize=(10, 6))\n",
    "plt.bar(counts_entanglement.keys(), counts_entanglement.values(), color='royalblue')\n",
    "plt.xlabel('Output States', fontsize=12)\n",
    "plt.ylabel('Counts', fontsize=12)\n",
    "plt.title(\"Quantum Entanglement Demonstration Results\", fontsize=15)\n",
    "plt.xticks(rotation=45)  # Rotate the x-axis labels for better readability\n",
    "plt.show()  # Display the histogram"
   ]
  },
  {
   "cell_type": "markdown",
   "metadata": {},
   "source": [
    "## References\n",
    "\n",
    "1. https://www.ibm.com/topics/quantum-computing <span style=\"color: black;\">Understanding Quantum Computing</span>\n",
    "2. https://www.classiq.io/insights/the-deutsch-jozsa-algorithm-explained <span style=\"color: black;\">Deutch Algorithm</span>\n",
    "3. https://www.qmunity.tech/tutorials/deutschs-algorithm\" <span style=\"color: black;\">Explain Quantum computing</span>\n",
    "4. https://research.ibm.com/blog/utility-toward-useful-quantum <span style=\"color: black;\">Quantum vs Classical</span>\n",
    "5. https://jpt.spe.org/quantum-computing-emerges-game-changer <span style=\"color: black;\">Quantum Computing Emerges as a Game Changer</span>\n",
    "6. https://www.educative.io/blog/intro-to-quantum-computing <span style=\"color: black;\">Qubits, superposition & Entanglement</span>\n",
    "7.  https://techcommunity.microsoft.com/t5/educator-developer-blog/quantum-gates-and-circuits-the-crash-course/ba-p/380463 <span style=\"color: black;\">Quantum-Gates-and-Circuits</span>\n",
    "8.  https://learning.quantum.ibm.com/course/fundamentals-of-quantum-algorithms/quantum-query-algorithms#deutschs-algorithm <span style=\"color: black;\">Deutsch's Algorithm</span>\n",
    "9.  https://www.youtube.com/watch?v=pq2Okr_BO-Y <span style=\"color: black;\"></span>"
   ]
  }
 ],
 "metadata": {
  "kernelspec": {
   "display_name": "Python 3",
   "language": "python",
   "name": "python3"
  },
  "language_info": {
   "codemirror_mode": {
    "name": "ipython",
    "version": 3
   },
   "file_extension": ".py",
   "mimetype": "text/x-python",
   "name": "python",
   "nbconvert_exporter": "python",
   "pygments_lexer": "ipython3",
   "version": "3.11.0"
  }
 },
 "nbformat": 4,
 "nbformat_minor": 2
}
