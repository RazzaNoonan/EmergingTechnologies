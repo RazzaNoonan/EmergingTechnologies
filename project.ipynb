{
 "cells": [
  {
   "cell_type": "markdown",
   "metadata": {},
   "source": [
    "# Welcome to My Project Notebook \n",
    "### By Ronan Noonan student number G00384824\n",
    "### Atlantic Technological University "
   ]
  },
  {
   "cell_type": "markdown",
   "metadata": {},
   "source": [
    "<hr>"
   ]
  },
  {
   "cell_type": "markdown",
   "metadata": {},
   "source": [
    "# Introduction "
   ]
  },
  {
   "cell_type": "markdown",
   "metadata": {},
   "source": [
    "Quantum computing, an emerging field of technology, promises to revolutionize the way we compute. While classical computers use bits to process information in binary form (0s and 1s), quantum computers use quantum bits, or qubits. These qubits have the extraordinary capability of being in a superposition of states, enabling them to represent both 0 and 1 simultaneously. One of the algorithms that demonstrated the potential advantages of quantum over classical computing is Deutsch's Algorithm. This algorithm, although simple, sets the foundation for more complex quantum algorithms and highlights the vast potential of quantum computing. \n",
    "<a href=\"https://www.microwavejournal.com/articles/34557-understanding-quantum-computing?gclid=CjwKCAjwkY2qBhBDEiwAoQXK5Z1eUpxYgFqZNcRWN5mByzt5-V-Pbip8bXbN6lrprD55tIepS5UFuRoCI6QQAvD_BwE\">Quantum Computing</a>"
   ]
  },
  {
   "cell_type": "markdown",
   "metadata": {},
   "source": [
    "#  Understanding Quantum Computing"
   ]
  },
  {
   "cell_type": "markdown",
   "metadata": {},
   "source": [
    "### Explain Quantum Computing\n",
    "Quantum computing harnesses the nuances of quantum mechanics, using qubits that can be both 0 and 1 simultaneously, thanks to superposition. Coupled with entanglement, where qubits influence each other regardless of distance, quantum computers can process complex calculations rapidly, unlocking potentials in areas like cryptanalysis and materials research. \n",
    "<a href=\"https://www.microwavejournal.com/articles/34557-understanding-quantum-computing?gclid=CjwKCAjwkY2qBhBDEiwAoQXK5Z1eUpxYgFqZNcRWN5mByzt5-V-Pbip8bXbN6lrprD55tIepS5UFuRoCI6QQAvD_BwE\">Quantum Computing</a>\n",
    "\n",
    "The following are some possible uses for quantum computing:\n",
    "- Cryptography: Designing unbreakable encryption systems.\n",
    "\n",
    "- Drug Discovery: Accelerating the process of identifying drug molecules.\n",
    "\n",
    "- Machine Learning: Enhancing clustering and classification techniques.\n",
    "\n",
    "<a href=\"https://jpt.spe.org/quantum-computing-emerges-game-changer?gad_source=1&gclid=CjwKCAjwkY2qBhBDEiwAoQXK5bBLHiUR52BwVdOlnhhH5UKWl2Lq9hNGyWfQqyRi1Q43FpsUrHUD7BoCFEYQAvD_BwE\">Understanding Quantum Computing</a>"
   ]
  },
  {
   "cell_type": "markdown",
   "metadata": {},
   "source": [
    "### Explain Qubits\n",
    "The basic building blocks of quantum computing are called qubits, short for \"quantum bits.\" Qubits, in contrast to classical bits, have the ability to superimpose both {0} and {1}. \n",
    "#### Superposition:\n",
    "One of the main characteristics that allows quantum computers to execute several calculations at once is superposition, which permits a qubit to exist in different states simultaneously.\n",
    "#### Entanglement:\n",
    "No matter how far apart two qubits are from one another, their states are interdependent when they get entangled. It is this strange and paradoxical occurrence that gives rise to quantum computers' formidable parallel processing capabilities.\n",
    "<a href=\"https://azure.microsoft.com/en-us/resources/azure-quantum/\">Microsoft Quantum</a>"
   ]
  },
  {
   "cell_type": "markdown",
   "metadata": {},
   "source": [
    "### Quantum Gates and Circuits\n",
    "Quantum computers employ quantum gates to execute operations on qubits, just as classical computers use logic gates (AND, OR, NOT) to conduct operations on bits. These quantum gates operate on the qubit's state, utilizing entanglement and superposition to carry out several simultaneous calculations.\n",
    "\n",
    "For example, when applied to a qubit, the Hadamard gate (commonly represented by the symbol {H}) produces a superposition of {0} and {1}. Then, to conduct increasingly sophisticated tasks, numerous quantum gates are combined to construct quantum circuits."
   ]
  },
  {
   "cell_type": "code",
   "execution_count": 1,
   "metadata": {},
   "outputs": [
    {
     "data": {
      "image/png": "[encoded data removed]",
      "text/plain": [
       "<Figure size 185.453x117.056 with 1 Axes>"
      ]
     },
     "execution_count": 1,
     "metadata": {},
     "output_type": "execute_result"
    }
   ],
   "source": [
    "# Sample Python code using Qiskit to apply a Hadamard gate\n",
    "from qiskit import QuantumCircuit\n",
    "\n",
    "# Create a quantum circuit with one qubit\n",
    "qc = QuantumCircuit(1)\n",
    "\n",
    "# Apply Hadamard gate to the qubit\n",
    "qc.h(0)\n",
    "\n",
    "# Visualize the circuit\n",
    "qc.draw('mpl')\n"
   ]
  },
  {
   "cell_type": "markdown",
   "metadata": {},
   "source": [
    "# References\n",
    "\n",
    "1. [Quantum Computing](https://www.microwavejournal.com/articles/34557-understanding-quantum-computing?gclid=CjwKCAjwkY2qBhBDEiwAoQXK5Z1eUpxYgFqZNcRWN5mByzt5-V-Pbip8bXbN6lrprD55tIepS5UFuRoCI6QQAvD_BwE)\n",
    "2. [Understanding Quantum Computing](https://jpt.spe.org/quantum-computing-emerges-game-changer?gad_source=1&gclid=CjwKCAjwkY2qBhBDEiwAoQXK5bBLHiUR52BwVdOlnhhH5UKWl2Lq9hNGyWfQqyRi1Q43FpsUrHUD7BoCFEYQAvD_BwE)"
   ]
  }
 ],
 "metadata": {
  "kernelspec": {
   "display_name": "Python 3",
   "language": "python",
   "name": "python3"
  },
  "language_info": {
   "codemirror_mode": {
    "name": "ipython",
    "version": 3
   },
   "file_extension": ".py",
   "mimetype": "text/x-python",
   "name": "python",
   "nbconvert_exporter": "python",
   "pygments_lexer": "ipython3",
   "version": "3.11.0"
  }
 },
 "nbformat": 4,
 "nbformat_minor": 2
}
