{
 "cells": [
  {
   "cell_type": "markdown",
   "metadata": {},
   "source": [
    "# Welcome to My Project Notebook \n",
    "### By Ronan Noonan student number G00384824\n",
    "### Atlantic Technological University "
   ]
  },
  {
   "cell_type": "markdown",
   "metadata": {},
   "source": [
    "# Deutsch's Algorithm Exploration\n",
    "In this project, we aim to explore and implement Deutsch's Algorithm using Qiskit. This quantum algorithm is significant as it was one of the first instances where a quantum computer was proven to have the potential to perform faster than a classical computer for certain tasks. We'll delve into the problem it solves, understand its workings, and finally implement and test it using a quantum simulator.\n"
   ]
  },
  {
   "cell_type": "markdown",
   "metadata": {},
   "source": [
    "## Background\n",
    "Deutsch's Algorithm, proposed by David Deutsch in 1985, addresses a specific black-box problem known as \"Deutsch's Problem.\" This problem involves determining the nature of a hidden binary function (whether it's constant or balanced) with as few queries as possible. Remarkably, Deutsch's Algorithm can solve this with just a single query, showcasing the potential superiority of quantum computing over classical methods for certain problem types.\n"
   ]
  }
 ],
 "metadata": {
  "language_info": {
   "name": "python"
  }
 },
 "nbformat": 4,
 "nbformat_minor": 2
}
